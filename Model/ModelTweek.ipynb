{
 "cells": [
  {
   "cell_type": "code",
   "execution_count": 98,
   "metadata": {},
   "outputs": [],
   "source": [
    "### Test tweeking model parameters: n_estimator, max_depth, max_leaf_nodes"
   ]
  },
  {
   "cell_type": "code",
   "execution_count": 69,
   "metadata": {},
   "outputs": [],
   "source": [
    "import numpy as np\n",
    "import pandas as pd\n",
    "from sklearn.ensemble import RandomForestClassifier\n",
    "from sklearn import metrics"
   ]
  },
  {
   "cell_type": "markdown",
   "metadata": {},
   "source": [
    "### Model Hyper-Parameter Tuning:\n",
    "#### Test changing multiple model parameters in the RandomForestClassifier. And find the best hyper-paramters set by cross validation grid search.\n",
    "#### GridSearchCV Explained in here : https://stackoverflow.com/questions/19335165/what-is-the-difference-between-cross-validation-and-grid-search"
   ]
  },
  {
   "cell_type": "markdown",
   "metadata": {},
   "source": [
    "Recall: Benchmark Model parameter\n",
    " - bootstrap=True, \n",
    " - class_weight=None, \n",
    " - criterion='gini',\n",
    " - max_depth=None, \n",
    " - max_features='auto', \n",
    " - max_leaf_nodes=None,\n",
    " - min_impurity_decrease=0.0, \n",
    " - min_impurity_split=None,\n",
    " - min_samples_leaf=1, \n",
    " - min_samples_split=12,\n",
    " - min_weight_fraction_leaf=0.0, \n",
    " - n_estimators=80, \n",
    " - n_jobs=None,\n",
    " - oob_score=True, random_state=22, verbose=0, warm_start=False)"
   ]
  },
  {
   "cell_type": "code",
   "execution_count": 106,
   "metadata": {},
   "outputs": [],
   "source": [
    "param_grid = {\"max_depth\": [None,2,6],\n",
    "              \"max_features\": [1, 5, 10],\n",
    "              \"min_samples_split\": [2, 3, 10],\n",
    "              \"min_samples_leaf\": [1, 3, 10],\n",
    "              \"bootstrap\": [True],\n",
    "              \"oob_score\": [False, True],\n",
    "              \"n_estimators\" :[100,300],\n",
    "              \"criterion\": [\"gini\"]}"
   ]
  },
  {
   "cell_type": "code",
   "execution_count": 107,
   "metadata": {},
   "outputs": [],
   "source": [
    "RFC5=RandomForestClassifier()"
   ]
  },
  {
   "cell_type": "code",
   "execution_count": 108,
   "metadata": {},
   "outputs": [],
   "source": [
    "from sklearn import model_selection\n",
    "kfold = model_selection.StratifiedKFold(n_splits=5)"
   ]
  },
  {
   "cell_type": "code",
   "execution_count": 70,
   "metadata": {},
   "outputs": [],
   "source": [
    "# first load training data"
   ]
  },
  {
   "cell_type": "code",
   "execution_count": 109,
   "metadata": {},
   "outputs": [],
   "source": [
    "tdata = pd.read_csv('cleaned_train.csv',index_col='PassengerId')\n",
    "tdata['familySize']=tdata['SibSp']+tdata['Parch']+1\n",
    "tdata=tdata.drop(columns=['Survived'],axis =1)"
   ]
  },
  {
   "cell_type": "code",
   "execution_count": 110,
   "metadata": {},
   "outputs": [],
   "source": [
    "y= pd.read_csv('train.csv',usecols=['Survived'],index_col=None)"
   ]
  },
  {
   "cell_type": "code",
   "execution_count": 111,
   "metadata": {},
   "outputs": [],
   "source": [
    "gsRFC = model_selection.GridSearchCV(RFC5,param_grid = param_grid, cv=kfold, scoring=\"accuracy\", n_jobs= 4, verbose = 1)"
   ]
  },
  {
   "cell_type": "code",
   "execution_count": 112,
   "metadata": {},
   "outputs": [
    {
     "name": "stdout",
     "output_type": "stream",
     "text": [
      "Fitting 5 folds for each of 324 candidates, totalling 1620 fits\n"
     ]
    },
    {
     "name": "stderr",
     "output_type": "stream",
     "text": [
      "[Parallel(n_jobs=4)]: Using backend LokyBackend with 4 concurrent workers.\n",
      "[Parallel(n_jobs=4)]: Done  42 tasks      | elapsed:    8.6s\n",
      "[Parallel(n_jobs=4)]: Done 192 tasks      | elapsed:   27.6s\n",
      "[Parallel(n_jobs=4)]: Done 442 tasks      | elapsed:  1.1min\n",
      "[Parallel(n_jobs=4)]: Done 792 tasks      | elapsed:  1.8min\n",
      "[Parallel(n_jobs=4)]: Done 1242 tasks      | elapsed:  2.6min\n",
      "[Parallel(n_jobs=4)]: Done 1620 out of 1620 | elapsed:  3.4min finished\n",
      "/miniconda3/lib/python3.7/site-packages/sklearn/model_selection/_search.py:740: DataConversionWarning: A column-vector y was passed when a 1d array was expected. Please change the shape of y to (n_samples,), for example using ravel().\n",
      "  self.best_estimator_.fit(X, y, **fit_params)\n"
     ]
    },
    {
     "data": {
      "text/plain": [
       "GridSearchCV(cv=StratifiedKFold(n_splits=5, random_state=None, shuffle=False),\n",
       "       error_score='raise-deprecating',\n",
       "       estimator=RandomForestClassifier(bootstrap=True, class_weight=None, criterion='gini',\n",
       "            max_depth=None, max_features='auto', max_leaf_nodes=None,\n",
       "            min_impurity_decrease=0.0, min_impurity_split=None,\n",
       "            min_samples_leaf=1, min_samples_split=2,\n",
       "            min_weight_fraction_leaf=0.0, n_estimators='warn', n_jobs=None,\n",
       "            oob_score=False, random_state=None, verbose=0,\n",
       "            warm_start=False),\n",
       "       fit_params=None, iid='warn', n_jobs=4,\n",
       "       param_grid={'max_depth': [None, 2, 6], 'max_features': [1, 5, 10], 'min_samples_split': [2, 3, 10], 'min_samples_leaf': [1, 3, 10], 'bootstrap': [True], 'oob_score': [False, True], 'n_estimators': [100, 300], 'criterion': ['gini']},\n",
       "       pre_dispatch='2*n_jobs', refit=True, return_train_score='warn',\n",
       "       scoring='accuracy', verbose=1)"
      ]
     },
     "execution_count": 112,
     "metadata": {},
     "output_type": "execute_result"
    }
   ],
   "source": [
    "gsRFC.fit(tdata,y)"
   ]
  },
  {
   "cell_type": "code",
   "execution_count": 113,
   "metadata": {},
   "outputs": [
    {
     "name": "stdout",
     "output_type": "stream",
     "text": [
      "RandomForestClassifier(bootstrap=True, class_weight=None, criterion='gini',\n",
      "            max_depth=None, max_features=10, max_leaf_nodes=None,\n",
      "            min_impurity_decrease=0.0, min_impurity_split=None,\n",
      "            min_samples_leaf=3, min_samples_split=2,\n",
      "            min_weight_fraction_leaf=0.0, n_estimators=300, n_jobs=None,\n",
      "            oob_score=False, random_state=None, verbose=0,\n",
      "            warm_start=False)\n"
     ]
    }
   ],
   "source": [
    "#. check on the best estimator\n",
    "gsRFC_best = gsRFC.best_estimator_\n",
    "print(gsRFC_best)"
   ]
  },
  {
   "cell_type": "code",
   "execution_count": 114,
   "metadata": {},
   "outputs": [
    {
     "name": "stdout",
     "output_type": "stream",
     "text": [
      "best estimator accuracy score: 84.6240179573513 %\n"
     ]
    }
   ],
   "source": [
    "print(\"best estimator accuracy score:\",gsRFC.best_score_*100,\"%\")"
   ]
  },
  {
   "cell_type": "code",
   "execution_count": 115,
   "metadata": {},
   "outputs": [],
   "source": [
    "# use this model to check on the confusion matrix\n",
    "from sklearn.model_selection import train_test_split\n",
    "X_train, X_test, y_train, y_test = train_test_split(tdata,y,test_size=0.3,random_state=22)\n",
    "y_pred = gsRFC_best.predict(X_test)"
   ]
  },
  {
   "cell_type": "code",
   "execution_count": 116,
   "metadata": {},
   "outputs": [
    {
     "name": "stdout",
     "output_type": "stream",
     "text": [
      "Classification Accuracy is : 91.04477611940298 %\n",
      "Confusion Matrix is:\n",
      " [[157   7]\n",
      " [ 17  87]]\n",
      "Classification Error is:\n",
      " 8.955223880597018 %\n"
     ]
    }
   ],
   "source": [
    "print(\"Classification Accuracy is :\",metrics.accuracy_score(y_test, y_pred)*100,\"%\")\n",
    "print(\"Confusion Matrix is:\\n\",metrics.confusion_matrix(y_test, y_pred))\n",
    "print(\"Classification Error is:\\n\",100-metrics.accuracy_score(y_test, y_pred)*100,\"%\")"
   ]
  },
  {
   "cell_type": "code",
   "execution_count": 118,
   "metadata": {},
   "outputs": [
    {
     "name": "stderr",
     "output_type": "stream",
     "text": [
      "/miniconda3/lib/python3.7/site-packages/ipykernel_launcher.py:3: DataConversionWarning: A column-vector y was passed when a 1d array was expected. Please change the shape of y to (n_samples,), for example using ravel().\n",
      "  This is separate from the ipykernel package so we can avoid doing imports until\n",
      "/miniconda3/lib/python3.7/site-packages/sklearn/model_selection/_validation.py:528: DataConversionWarning: A column-vector y was passed when a 1d array was expected. Please change the shape of y to (n_samples,), for example using ravel().\n",
      "  estimator.fit(X_train, y_train, **fit_params)\n",
      "/miniconda3/lib/python3.7/site-packages/sklearn/model_selection/_validation.py:528: DataConversionWarning: A column-vector y was passed when a 1d array was expected. Please change the shape of y to (n_samples,), for example using ravel().\n",
      "  estimator.fit(X_train, y_train, **fit_params)\n",
      "/miniconda3/lib/python3.7/site-packages/sklearn/model_selection/_validation.py:528: DataConversionWarning: A column-vector y was passed when a 1d array was expected. Please change the shape of y to (n_samples,), for example using ravel().\n",
      "  estimator.fit(X_train, y_train, **fit_params)\n",
      "/miniconda3/lib/python3.7/site-packages/sklearn/model_selection/_validation.py:528: DataConversionWarning: A column-vector y was passed when a 1d array was expected. Please change the shape of y to (n_samples,), for example using ravel().\n",
      "  estimator.fit(X_train, y_train, **fit_params)\n",
      "/miniconda3/lib/python3.7/site-packages/sklearn/model_selection/_validation.py:528: DataConversionWarning: A column-vector y was passed when a 1d array was expected. Please change the shape of y to (n_samples,), for example using ravel().\n",
      "  estimator.fit(X_train, y_train, **fit_params)\n"
     ]
    },
    {
     "name": "stdout",
     "output_type": "stream",
     "text": [
      "Average accuracy score from cv: 84.29144116204522 %\n",
      "Classification Accuracy score variance from cv: 0.0005786526960218155\n"
     ]
    }
   ],
   "source": [
    "# use the same model parameters to do a five fold cv:\n",
    "RFC6=RandomForestClassifier(bootstrap=True, class_weight=None, criterion='gini',max_features=10, max_leaf_nodes=None,min_impurity_decrease=0.0, min_impurity_split=None,min_samples_leaf=3, min_samples_split=2,min_weight_fraction_leaf=0.0, n_estimators=300, n_jobs=None,oob_score=False, random_state=None, verbose=0,warm_start=False)\n",
    "RFC6.fit(X_train,y_train)\n",
    "scores6= cross_val_score(RFC6,tdata,y,cv=5)\n",
    "print(\"Average accuracy score from cv:\",np.mean(scores6)*100,\"%\")\n",
    "print(\"Classification Accuracy score variance from cv:\",np.var(scores6))"
   ]
  },
  {
   "cell_type": "markdown",
   "metadata": {},
   "source": [
    "### Update testing summary\n",
    "\n",
    "| Model Type | Parameters | Classification Accuracy(%) | Confusion Matrix | CV model variance |\n",
    "| --- | --- | --- | --- | --- |\n",
    "| Pure Guess | Guess based on Majority(Deceased) | 61.62 | [[549,0][342,0]]| None |\n",
    "| Random Forest | Default cleaned data, gini, min_samples_split=12, min_samples_leaf=1, 80 estimators | cv average 83.95 | [[147,17][33,71]]| 8.6*10^-4 |\n",
    "| Random Forest | Combined FamilySize, RankC | cv average 84.18 | [[143,21][33,71]]| 5.5*10^-4 |\n",
    "| Random Forest | Combined FamilySize, RankC, frequencyEcode 'Embarked'| cv average 83.62 | [[144,20][32,79]]| 5.52*10^-4 |\n",
    "| Random Forest | Data features remain, but remapped 'Name' into less categories | cv average 83.05 | [[147,17][33,71]] | 6.2*10^-4\n",
    "| Random Forest | feature tuned, model hyper-parameter best choice | grid search 84.62 | [[157,7][17,87]] | 5.8*10^-4 |"
   ]
  },
  {
   "cell_type": "markdown",
   "metadata": {},
   "source": [
    "### Use the final best parameter model to predict the result on test data."
   ]
  },
  {
   "cell_type": "code",
   "execution_count": 123,
   "metadata": {},
   "outputs": [
    {
     "name": "stderr",
     "output_type": "stream",
     "text": [
      "/miniconda3/lib/python3.7/site-packages/ipykernel_launcher.py:2: DataConversionWarning: A column-vector y was passed when a 1d array was expected. Please change the shape of y to (n_samples,), for example using ravel().\n",
      "  \n"
     ]
    },
    {
     "data": {
      "text/plain": [
       "RandomForestClassifier(bootstrap=True, class_weight=None, criterion='gini',\n",
       "            max_depth=None, max_features=10, max_leaf_nodes=None,\n",
       "            min_impurity_decrease=0.0, min_impurity_split=None,\n",
       "            min_samples_leaf=3, min_samples_split=2,\n",
       "            min_weight_fraction_leaf=0.0, n_estimators=300, n_jobs=None,\n",
       "            oob_score=False, random_state=None, verbose=0,\n",
       "            warm_start=False)"
      ]
     },
     "execution_count": 123,
     "metadata": {},
     "output_type": "execute_result"
    }
   ],
   "source": [
    "RFC6=RandomForestClassifier(bootstrap=True, class_weight=None, criterion='gini',max_features=10, max_leaf_nodes=None,min_impurity_decrease=0.0, min_impurity_split=None,min_samples_leaf=3, min_samples_split=2,min_weight_fraction_leaf=0.0, n_estimators=300, n_jobs=None,oob_score=False, random_state=None, verbose=0,warm_start=False)\n",
    "RFC6.fit(tdata,y)"
   ]
  },
  {
   "cell_type": "code",
   "execution_count": 119,
   "metadata": {},
   "outputs": [],
   "source": [
    "#load test data\n",
    "testd = pd.read_csv('cleaned_test.csv',index_col='PassengerId')\n",
    "testd['familySize']=testd['SibSp']+testd['Parch']+1"
   ]
  },
  {
   "cell_type": "code",
   "execution_count": 124,
   "metadata": {},
   "outputs": [],
   "source": [
    "test_pred = RFC6.predict(testd)"
   ]
  },
  {
   "cell_type": "code",
   "execution_count": 125,
   "metadata": {},
   "outputs": [],
   "source": [
    "fea_eg_res = pd.read_csv('cleaned_test.csv',usecols=['PassengerId'])\n",
    "fea_eg_res['Survived']=test_pred"
   ]
  },
  {
   "cell_type": "code",
   "execution_count": 126,
   "metadata": {},
   "outputs": [],
   "source": [
    "fea_eg_res.to_csv('prediction4.csv',index=None)"
   ]
  },
  {
   "cell_type": "markdown",
   "metadata": {},
   "source": [
    "#### Above I used the hyper-parameter given by GridsearchCV, Random Forest model to do a prediction. Submit to Kaggle, The result yields score 0.77990. Did not gain improvement.The highest ranking gets to #1218 (10.7%) ??? Don't know why."
   ]
  },
  {
   "cell_type": "code",
   "execution_count": null,
   "metadata": {},
   "outputs": [],
   "source": []
  }
 ],
 "metadata": {
  "kernelspec": {
   "display_name": "Python 3",
   "language": "python",
   "name": "python3"
  },
  "language_info": {
   "codemirror_mode": {
    "name": "ipython",
    "version": 3
   },
   "file_extension": ".py",
   "mimetype": "text/x-python",
   "name": "python",
   "nbconvert_exporter": "python",
   "pygments_lexer": "ipython3",
   "version": "3.7.3"
  }
 },
 "nbformat": 4,
 "nbformat_minor": 2
}
