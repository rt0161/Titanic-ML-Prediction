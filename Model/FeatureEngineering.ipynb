{
 "cells": [
  {
   "cell_type": "markdown",
   "metadata": {},
   "source": [
    "Import modules"
   ]
  },
  {
   "cell_type": "code",
   "execution_count": 223,
   "metadata": {},
   "outputs": [],
   "source": [
    "import numpy as np\n",
    "import pandas as pd\n",
    "import matplotlib.pyplot as plt\n",
    "import re\n",
    "from scipy import stats"
   ]
  },
  {
   "cell_type": "markdown",
   "metadata": {},
   "source": [
    "### Load Training Data"
   ]
  },
  {
   "cell_type": "code",
   "execution_count": 257,
   "metadata": {},
   "outputs": [],
   "source": [
    "tdata = pd.read_csv('cleaned_train.csv',index_col=0)"
   ]
  },
  {
   "cell_type": "code",
   "execution_count": 258,
   "metadata": {},
   "outputs": [
    {
     "data": {
      "text/html": [
       "<div>\n",
       "<style scoped>\n",
       "    .dataframe tbody tr th:only-of-type {\n",
       "        vertical-align: middle;\n",
       "    }\n",
       "\n",
       "    .dataframe tbody tr th {\n",
       "        vertical-align: top;\n",
       "    }\n",
       "\n",
       "    .dataframe thead th {\n",
       "        text-align: right;\n",
       "    }\n",
       "</style>\n",
       "<table border=\"1\" class=\"dataframe\">\n",
       "  <thead>\n",
       "    <tr style=\"text-align: right;\">\n",
       "      <th></th>\n",
       "      <th>Survived</th>\n",
       "      <th>Pclass</th>\n",
       "      <th>Name</th>\n",
       "      <th>Sex</th>\n",
       "      <th>Age</th>\n",
       "      <th>SibSp</th>\n",
       "      <th>Parch</th>\n",
       "      <th>Fare</th>\n",
       "      <th>Embarked</th>\n",
       "      <th>CabinC</th>\n",
       "      <th>CabinN</th>\n",
       "    </tr>\n",
       "    <tr>\n",
       "      <th>PassengerId</th>\n",
       "      <th></th>\n",
       "      <th></th>\n",
       "      <th></th>\n",
       "      <th></th>\n",
       "      <th></th>\n",
       "      <th></th>\n",
       "      <th></th>\n",
       "      <th></th>\n",
       "      <th></th>\n",
       "      <th></th>\n",
       "      <th></th>\n",
       "    </tr>\n",
       "  </thead>\n",
       "  <tbody>\n",
       "    <tr>\n",
       "      <th>1</th>\n",
       "      <td>0</td>\n",
       "      <td>3</td>\n",
       "      <td>1</td>\n",
       "      <td>1</td>\n",
       "      <td>22.0</td>\n",
       "      <td>1</td>\n",
       "      <td>0</td>\n",
       "      <td>7.2500</td>\n",
       "      <td>1</td>\n",
       "      <td>0</td>\n",
       "      <td>0.0</td>\n",
       "    </tr>\n",
       "    <tr>\n",
       "      <th>2</th>\n",
       "      <td>1</td>\n",
       "      <td>1</td>\n",
       "      <td>2</td>\n",
       "      <td>0</td>\n",
       "      <td>38.0</td>\n",
       "      <td>1</td>\n",
       "      <td>0</td>\n",
       "      <td>71.2833</td>\n",
       "      <td>0</td>\n",
       "      <td>3</td>\n",
       "      <td>85.0</td>\n",
       "    </tr>\n",
       "    <tr>\n",
       "      <th>3</th>\n",
       "      <td>1</td>\n",
       "      <td>3</td>\n",
       "      <td>3</td>\n",
       "      <td>0</td>\n",
       "      <td>26.0</td>\n",
       "      <td>0</td>\n",
       "      <td>0</td>\n",
       "      <td>7.9250</td>\n",
       "      <td>1</td>\n",
       "      <td>0</td>\n",
       "      <td>0.0</td>\n",
       "    </tr>\n",
       "    <tr>\n",
       "      <th>4</th>\n",
       "      <td>1</td>\n",
       "      <td>1</td>\n",
       "      <td>2</td>\n",
       "      <td>0</td>\n",
       "      <td>35.0</td>\n",
       "      <td>1</td>\n",
       "      <td>0</td>\n",
       "      <td>53.1000</td>\n",
       "      <td>1</td>\n",
       "      <td>3</td>\n",
       "      <td>123.0</td>\n",
       "    </tr>\n",
       "    <tr>\n",
       "      <th>5</th>\n",
       "      <td>0</td>\n",
       "      <td>3</td>\n",
       "      <td>1</td>\n",
       "      <td>1</td>\n",
       "      <td>35.0</td>\n",
       "      <td>0</td>\n",
       "      <td>0</td>\n",
       "      <td>8.0500</td>\n",
       "      <td>1</td>\n",
       "      <td>0</td>\n",
       "      <td>0.0</td>\n",
       "    </tr>\n",
       "  </tbody>\n",
       "</table>\n",
       "</div>"
      ],
      "text/plain": [
       "             Survived  Pclass  Name  Sex   Age  SibSp  Parch     Fare  \\\n",
       "PassengerId                                                             \n",
       "1                   0       3     1    1  22.0      1      0   7.2500   \n",
       "2                   1       1     2    0  38.0      1      0  71.2833   \n",
       "3                   1       3     3    0  26.0      0      0   7.9250   \n",
       "4                   1       1     2    0  35.0      1      0  53.1000   \n",
       "5                   0       3     1    1  35.0      0      0   8.0500   \n",
       "\n",
       "             Embarked  CabinC  CabinN  \n",
       "PassengerId                            \n",
       "1                   1       0     0.0  \n",
       "2                   0       3    85.0  \n",
       "3                   1       0     0.0  \n",
       "4                   1       3   123.0  \n",
       "5                   1       0     0.0  "
      ]
     },
     "execution_count": 258,
     "metadata": {},
     "output_type": "execute_result"
    }
   ],
   "source": [
    "tdata.head()"
   ]
  },
  {
   "cell_type": "code",
   "execution_count": 259,
   "metadata": {},
   "outputs": [],
   "source": [
    "y= pd.read_csv('train.csv',usecols=['Survived'],index_col=None)"
   ]
  },
  {
   "cell_type": "code",
   "execution_count": 260,
   "metadata": {},
   "outputs": [],
   "source": [
    "# drop out these columns that are already combined\n",
    "tdata=tdata.drop(columns=['Survived'])#,'SibSp','Parch','Pclass','CabinC'],axis =1)"
   ]
  },
  {
   "cell_type": "code",
   "execution_count": null,
   "metadata": {},
   "outputs": [],
   "source": []
  },
  {
   "cell_type": "code",
   "execution_count": 261,
   "metadata": {},
   "outputs": [],
   "source": [
    "# start by running the Random forest model with bechmarked parameters\n",
    "from sklearn.ensemble import RandomForestClassifier\n",
    "RFC = RandomForestClassifier(n_estimators=80, min_samples_split=12, min_samples_leaf=1,oob_score=True,random_state=22)"
   ]
  },
  {
   "cell_type": "code",
   "execution_count": 262,
   "metadata": {},
   "outputs": [],
   "source": [
    "from sklearn.model_selection import train_test_split\n",
    "X_train, X_test, y_train, y_test = train_test_split(tdata,y,test_size=0.3,random_state=22)"
   ]
  },
  {
   "cell_type": "code",
   "execution_count": 263,
   "metadata": {},
   "outputs": [
    {
     "name": "stderr",
     "output_type": "stream",
     "text": [
      "/miniconda3/lib/python3.7/site-packages/ipykernel_launcher.py:1: DataConversionWarning: A column-vector y was passed when a 1d array was expected. Please change the shape of y to (n_samples,), for example using ravel().\n",
      "  \"\"\"Entry point for launching an IPython kernel.\n"
     ]
    },
    {
     "data": {
      "text/plain": [
       "RandomForestClassifier(bootstrap=True, class_weight=None, criterion='gini',\n",
       "            max_depth=None, max_features='auto', max_leaf_nodes=None,\n",
       "            min_impurity_decrease=0.0, min_impurity_split=None,\n",
       "            min_samples_leaf=1, min_samples_split=12,\n",
       "            min_weight_fraction_leaf=0.0, n_estimators=80, n_jobs=None,\n",
       "            oob_score=True, random_state=22, verbose=0, warm_start=False)"
      ]
     },
     "execution_count": 263,
     "metadata": {},
     "output_type": "execute_result"
    }
   ],
   "source": [
    "RFC.fit(X_train,y_train)"
   ]
  },
  {
   "cell_type": "code",
   "execution_count": 264,
   "metadata": {},
   "outputs": [],
   "source": [
    "y_pred = RFC.predict(X_test)"
   ]
  },
  {
   "cell_type": "code",
   "execution_count": 265,
   "metadata": {},
   "outputs": [
    {
     "name": "stdout",
     "output_type": "stream",
     "text": [
      "Classification Accuracy is : 81.34328358208955 %\n",
      "Confusion Matrix is:\n",
      " [[147  17]\n",
      " [ 33  71]]\n",
      "Classification Error is:\n",
      " 18.656716417910445 %\n"
     ]
    }
   ],
   "source": [
    "from sklearn import metrics\n",
    "print(\"Classification Accuracy is :\",metrics.accuracy_score(y_test, y_pred)*100,\"%\")\n",
    "print(\"Confusion Matrix is:\\n\",metrics.confusion_matrix(y_test, y_pred))\n",
    "print(\"Classification Error is:\\n\",100-metrics.accuracy_score(y_test, y_pred)*100,\"%\")"
   ]
  },
  {
   "cell_type": "code",
   "execution_count": 266,
   "metadata": {},
   "outputs": [
    {
     "name": "stderr",
     "output_type": "stream",
     "text": [
      "/miniconda3/lib/python3.7/site-packages/sklearn/model_selection/_validation.py:528: DataConversionWarning: A column-vector y was passed when a 1d array was expected. Please change the shape of y to (n_samples,), for example using ravel().\n",
      "  estimator.fit(X_train, y_train, **fit_params)\n",
      "/miniconda3/lib/python3.7/site-packages/sklearn/model_selection/_validation.py:528: DataConversionWarning: A column-vector y was passed when a 1d array was expected. Please change the shape of y to (n_samples,), for example using ravel().\n",
      "  estimator.fit(X_train, y_train, **fit_params)\n",
      "/miniconda3/lib/python3.7/site-packages/sklearn/model_selection/_validation.py:528: DataConversionWarning: A column-vector y was passed when a 1d array was expected. Please change the shape of y to (n_samples,), for example using ravel().\n",
      "  estimator.fit(X_train, y_train, **fit_params)\n",
      "/miniconda3/lib/python3.7/site-packages/sklearn/model_selection/_validation.py:528: DataConversionWarning: A column-vector y was passed when a 1d array was expected. Please change the shape of y to (n_samples,), for example using ravel().\n",
      "  estimator.fit(X_train, y_train, **fit_params)\n",
      "/miniconda3/lib/python3.7/site-packages/sklearn/model_selection/_validation.py:528: DataConversionWarning: A column-vector y was passed when a 1d array was expected. Please change the shape of y to (n_samples,), for example using ravel().\n",
      "  estimator.fit(X_train, y_train, **fit_params)\n"
     ]
    }
   ],
   "source": [
    "from sklearn.model_selection import cross_val_score \n",
    "scores0 = cross_val_score(RFC,tdata,y,cv=5)"
   ]
  },
  {
   "cell_type": "code",
   "execution_count": 267,
   "metadata": {},
   "outputs": [
    {
     "name": "stdout",
     "output_type": "stream",
     "text": [
      "Average accuracy score from cv: 83.95562501706688 %\n",
      "Classification Accuracy score variance from cv: 0.0008605646150345021\n"
     ]
    }
   ],
   "source": [
    "print(\"Average accuracy score from cv:\",np.mean(scores0)*100,\"%\")\n",
    "print(\"Classification Accuracy score variance from cv:\",np.var(scores0))"
   ]
  },
  {
   "cell_type": "markdown",
   "metadata": {},
   "source": [
    "### Update testing summary\n",
    "\n",
    "| Model Type | Parameters | Classification Accuracy(%) | Confusion Matrix | CV model variance |\n",
    "| --- | --- | --- | --- | --- |\n",
    "| Pure Guess | Guess based on Majority(Deceased) | 61.62 | [[549,0][342,0]]| None |\n",
    "| Random Forest | Default cleaned data, gini, min_samples_split=12, min_samples_leaf=1, 80 estimators | cv average 83.95 | [[147,17][33,71]]| 8.6*10-4 |"
   ]
  },
  {
   "cell_type": "code",
   "execution_count": 282,
   "metadata": {},
   "outputs": [],
   "source": [
    "# Try combine the information of 'Pclass'+'CabinC', and 'SibSp'+'Parch'\n",
    "tdata['familySize']=tdata['SibSp']+tdata['Parch']+1\n",
    "tdata['RankC']=tdata['Pclass']+tdata['CabinC']"
   ]
  },
  {
   "cell_type": "code",
   "execution_count": 270,
   "metadata": {},
   "outputs": [
    {
     "name": "stderr",
     "output_type": "stream",
     "text": [
      "/miniconda3/lib/python3.7/site-packages/ipykernel_launcher.py:5: DataConversionWarning: A column-vector y was passed when a 1d array was expected. Please change the shape of y to (n_samples,), for example using ravel().\n",
      "  \"\"\"\n"
     ]
    },
    {
     "data": {
      "text/plain": [
       "RandomForestClassifier(bootstrap=True, class_weight=None, criterion='gini',\n",
       "            max_depth=None, max_features='auto', max_leaf_nodes=None,\n",
       "            min_impurity_decrease=0.0, min_impurity_split=None,\n",
       "            min_samples_leaf=1, min_samples_split=12,\n",
       "            min_weight_fraction_leaf=0.0, n_estimators=80, n_jobs=None,\n",
       "            oob_score=True, random_state=22, verbose=0, warm_start=False)"
      ]
     },
     "execution_count": 270,
     "metadata": {},
     "output_type": "execute_result"
    }
   ],
   "source": [
    "# create prediction results for test data\n",
    "# Retrain model using all training data\n",
    "RFC1 = RandomForestClassifier(n_estimators=80, min_samples_split=12, min_samples_leaf=1,oob_score=True,random_state=22)\n",
    "X_train, X_test, y_train, y_test = train_test_split(tdata,y,test_size=0.3,random_state=22)\n",
    "RFC1.fit(X_train,y_train)"
   ]
  },
  {
   "cell_type": "code",
   "execution_count": 271,
   "metadata": {},
   "outputs": [],
   "source": [
    "y_pred = RFC1.predict(X_test)"
   ]
  },
  {
   "cell_type": "code",
   "execution_count": 272,
   "metadata": {},
   "outputs": [
    {
     "name": "stdout",
     "output_type": "stream",
     "text": [
      "Classification Accuracy is : 79.8507462686567 %\n",
      "Confusion Matrix is:\n",
      " [[143  21]\n",
      " [ 33  71]]\n",
      "Classification Error is:\n",
      " 20.149253731343293 %\n"
     ]
    }
   ],
   "source": [
    "print(\"Classification Accuracy is :\",metrics.accuracy_score(y_test, y_pred)*100,\"%\")\n",
    "print(\"Confusion Matrix is:\\n\",metrics.confusion_matrix(y_test, y_pred))\n",
    "print(\"Classification Error is:\\n\",100-metrics.accuracy_score(y_test, y_pred)*100,\"%\")"
   ]
  },
  {
   "cell_type": "code",
   "execution_count": 276,
   "metadata": {},
   "outputs": [
    {
     "name": "stderr",
     "output_type": "stream",
     "text": [
      "/miniconda3/lib/python3.7/site-packages/sklearn/model_selection/_validation.py:528: DataConversionWarning: A column-vector y was passed when a 1d array was expected. Please change the shape of y to (n_samples,), for example using ravel().\n",
      "  estimator.fit(X_train, y_train, **fit_params)\n",
      "/miniconda3/lib/python3.7/site-packages/sklearn/model_selection/_validation.py:528: DataConversionWarning: A column-vector y was passed when a 1d array was expected. Please change the shape of y to (n_samples,), for example using ravel().\n",
      "  estimator.fit(X_train, y_train, **fit_params)\n",
      "/miniconda3/lib/python3.7/site-packages/sklearn/model_selection/_validation.py:528: DataConversionWarning: A column-vector y was passed when a 1d array was expected. Please change the shape of y to (n_samples,), for example using ravel().\n",
      "  estimator.fit(X_train, y_train, **fit_params)\n",
      "/miniconda3/lib/python3.7/site-packages/sklearn/model_selection/_validation.py:528: DataConversionWarning: A column-vector y was passed when a 1d array was expected. Please change the shape of y to (n_samples,), for example using ravel().\n",
      "  estimator.fit(X_train, y_train, **fit_params)\n",
      "/miniconda3/lib/python3.7/site-packages/sklearn/model_selection/_validation.py:528: DataConversionWarning: A column-vector y was passed when a 1d array was expected. Please change the shape of y to (n_samples,), for example using ravel().\n",
      "  estimator.fit(X_train, y_train, **fit_params)\n"
     ]
    }
   ],
   "source": [
    "scores1 = cross_val_score(RFC1,tdata,y,cv=5)"
   ]
  },
  {
   "cell_type": "code",
   "execution_count": 277,
   "metadata": {},
   "outputs": [
    {
     "name": "stdout",
     "output_type": "stream",
     "text": [
      "Average accuracy score from cv: 84.18034411819049 %\n",
      "Classification Accuracy score variance from cv: 0.0005545747505808147\n"
     ]
    }
   ],
   "source": [
    "print(\"Average accuracy score from cv:\",np.mean(scores1)*100,\"%\")\n",
    "print(\"Classification Accuracy score variance from cv:\",np.var(scores1))"
   ]
  },
  {
   "cell_type": "markdown",
   "metadata": {},
   "source": [
    "#### Let's take a look at the features used in model fitting and their ranking(how much it helps to predict the end result, based on the model)"
   ]
  },
  {
   "cell_type": "code",
   "execution_count": 284,
   "metadata": {},
   "outputs": [
    {
     "data": {
      "image/png": "[encoded data removed]",
      "text/plain": [
       "<Figure size 1152x432 with 1 Axes>"
      ]
     },
     "metadata": {
      "needs_background": "light"
     },
     "output_type": "display_data"
    }
   ],
   "source": [
    "from FeaImpPlotting import plot_ft_imp\n",
    "plot_ft_imp(tdata,RFC1.feature_importances_)"
   ]
  },
  {
   "cell_type": "markdown",
   "metadata": {},
   "source": [
    "#### Looks like the feature importance is not fully reflecting the effect we see/expect in the data exploration step. \n",
    "\n",
    "##### E.g. (1)The 'Name' feature seems to raise too high of an importance to the target, \n",
    "#####      (2)The 'RankC' seems not having as high effect as we expected (which includes 'Pclass') \n",
    "#####      (3)The 'Embarked' port seems not having good effect to target predicting"
   ]
  },
  {
   "cell_type": "markdown",
   "metadata": {},
   "source": [
    "#### Below I used the first model to do a prediction. Submit to Kaggle, ch result yields ranking #3197(28.5%), score 0.78947"
   ]
  },
  {
   "cell_type": "markdown",
   "metadata": {},
   "source": [
    "### Update testing summary\n",
    "\n",
    "| Model Type | Parameters | Classification Accuracy(%) | Confusion Matrix | CV model variance |\n",
    "| --- | --- | --- | --- | --- |\n",
    "| Pure Guess | Guess based on Majority(Deceased) | 61.62 | [[549,0][342,0]]| None |\n",
    "| Random Forest | Default cleaned data, gini, min_samples_split=12, min_samples_leaf=1, 80 estimators | cv average 83.95 | [[147,17][33,71]]| 8.6*10-4 |\n",
    "| Random Forest | Combined FamilySize, RankC | cv average 84.18 | [[143,21][33,71]]| 5.5*10-4 |"
   ]
  },
  {
   "cell_type": "code",
   "execution_count": 285,
   "metadata": {},
   "outputs": [],
   "source": [
    "# load test data\n",
    "testdata= pd.read_csv('cleaned_test.csv',index_col=None)\n",
    "testdata['familySize']=testdata['SibSp']+testdata['Parch']+1\n",
    "testdata['RankC']=testdata['Pclass']+testdata['CabinC']"
   ]
  },
  {
   "cell_type": "code",
   "execution_count": 54,
   "metadata": {},
   "outputs": [],
   "source": [
    "pred_test=RFC.predict(testdata)"
   ]
  },
  {
   "cell_type": "code",
   "execution_count": 69,
   "metadata": {},
   "outputs": [],
   "source": [
    "# extract Passenger Id and assign as index of the test data \n",
    "rind=pd.read_csv('test.csv',usecols=['PassengerId'])"
   ]
  },
  {
   "cell_type": "code",
   "execution_count": 73,
   "metadata": {},
   "outputs": [],
   "source": [
    "rind['Survived']=pred_test"
   ]
  },
  {
   "cell_type": "code",
   "execution_count": 76,
   "metadata": {},
   "outputs": [],
   "source": [
    "rind.set_index('PassengerId',inplace=True)"
   ]
  },
  {
   "cell_type": "code",
   "execution_count": 81,
   "metadata": {},
   "outputs": [],
   "source": [
    "rind.to_csv('prediction0.csv') ## This is submission 1"
   ]
  },
  {
   "cell_type": "markdown",
   "metadata": {},
   "source": [
    "#### Test the frequency encoding of column 'Embarked'"
   ]
  },
  {
   "cell_type": "code",
   "execution_count": 288,
   "metadata": {},
   "outputs": [],
   "source": [
    "encodingE=tdata.groupby('Embarked').size()/len(tdata)\n",
    "tdata['Enc']=tdata.Embarked.map(encodingE)"
   ]
  },
  {
   "cell_type": "code",
   "execution_count": 289,
   "metadata": {},
   "outputs": [
    {
     "data": {
      "text/html": [
       "<div>\n",
       "<style scoped>\n",
       "    .dataframe tbody tr th:only-of-type {\n",
       "        vertical-align: middle;\n",
       "    }\n",
       "\n",
       "    .dataframe tbody tr th {\n",
       "        vertical-align: top;\n",
       "    }\n",
       "\n",
       "    .dataframe thead th {\n",
       "        text-align: right;\n",
       "    }\n",
       "</style>\n",
       "<table border=\"1\" class=\"dataframe\">\n",
       "  <thead>\n",
       "    <tr style=\"text-align: right;\">\n",
       "      <th></th>\n",
       "      <th>Pclass</th>\n",
       "      <th>Name</th>\n",
       "      <th>Sex</th>\n",
       "      <th>Age</th>\n",
       "      <th>SibSp</th>\n",
       "      <th>Parch</th>\n",
       "      <th>Fare</th>\n",
       "      <th>Embarked</th>\n",
       "      <th>CabinC</th>\n",
       "      <th>CabinN</th>\n",
       "      <th>familySize</th>\n",
       "      <th>RankC</th>\n",
       "      <th>Enc</th>\n",
       "    </tr>\n",
       "    <tr>\n",
       "      <th>PassengerId</th>\n",
       "      <th></th>\n",
       "      <th></th>\n",
       "      <th></th>\n",
       "      <th></th>\n",
       "      <th></th>\n",
       "      <th></th>\n",
       "      <th></th>\n",
       "      <th></th>\n",
       "      <th></th>\n",
       "      <th></th>\n",
       "      <th></th>\n",
       "      <th></th>\n",
       "      <th></th>\n",
       "    </tr>\n",
       "  </thead>\n",
       "  <tbody>\n",
       "    <tr>\n",
       "      <th>1</th>\n",
       "      <td>3</td>\n",
       "      <td>1</td>\n",
       "      <td>1</td>\n",
       "      <td>22.0</td>\n",
       "      <td>1</td>\n",
       "      <td>0</td>\n",
       "      <td>7.2500</td>\n",
       "      <td>1</td>\n",
       "      <td>0</td>\n",
       "      <td>0.0</td>\n",
       "      <td>2</td>\n",
       "      <td>3</td>\n",
       "      <td>0.725028</td>\n",
       "    </tr>\n",
       "    <tr>\n",
       "      <th>2</th>\n",
       "      <td>1</td>\n",
       "      <td>2</td>\n",
       "      <td>0</td>\n",
       "      <td>38.0</td>\n",
       "      <td>1</td>\n",
       "      <td>0</td>\n",
       "      <td>71.2833</td>\n",
       "      <td>0</td>\n",
       "      <td>3</td>\n",
       "      <td>85.0</td>\n",
       "      <td>2</td>\n",
       "      <td>4</td>\n",
       "      <td>0.188552</td>\n",
       "    </tr>\n",
       "    <tr>\n",
       "      <th>3</th>\n",
       "      <td>3</td>\n",
       "      <td>3</td>\n",
       "      <td>0</td>\n",
       "      <td>26.0</td>\n",
       "      <td>0</td>\n",
       "      <td>0</td>\n",
       "      <td>7.9250</td>\n",
       "      <td>1</td>\n",
       "      <td>0</td>\n",
       "      <td>0.0</td>\n",
       "      <td>1</td>\n",
       "      <td>3</td>\n",
       "      <td>0.725028</td>\n",
       "    </tr>\n",
       "    <tr>\n",
       "      <th>4</th>\n",
       "      <td>1</td>\n",
       "      <td>2</td>\n",
       "      <td>0</td>\n",
       "      <td>35.0</td>\n",
       "      <td>1</td>\n",
       "      <td>0</td>\n",
       "      <td>53.1000</td>\n",
       "      <td>1</td>\n",
       "      <td>3</td>\n",
       "      <td>123.0</td>\n",
       "      <td>2</td>\n",
       "      <td>4</td>\n",
       "      <td>0.725028</td>\n",
       "    </tr>\n",
       "    <tr>\n",
       "      <th>5</th>\n",
       "      <td>3</td>\n",
       "      <td>1</td>\n",
       "      <td>1</td>\n",
       "      <td>35.0</td>\n",
       "      <td>0</td>\n",
       "      <td>0</td>\n",
       "      <td>8.0500</td>\n",
       "      <td>1</td>\n",
       "      <td>0</td>\n",
       "      <td>0.0</td>\n",
       "      <td>1</td>\n",
       "      <td>3</td>\n",
       "      <td>0.725028</td>\n",
       "    </tr>\n",
       "  </tbody>\n",
       "</table>\n",
       "</div>"
      ],
      "text/plain": [
       "             Pclass  Name  Sex   Age  SibSp  Parch     Fare  Embarked  CabinC  \\\n",
       "PassengerId                                                                     \n",
       "1                 3     1    1  22.0      1      0   7.2500         1       0   \n",
       "2                 1     2    0  38.0      1      0  71.2833         0       3   \n",
       "3                 3     3    0  26.0      0      0   7.9250         1       0   \n",
       "4                 1     2    0  35.0      1      0  53.1000         1       3   \n",
       "5                 3     1    1  35.0      0      0   8.0500         1       0   \n",
       "\n",
       "             CabinN  familySize  RankC       Enc  \n",
       "PassengerId                                       \n",
       "1               0.0           2      3  0.725028  \n",
       "2              85.0           2      4  0.188552  \n",
       "3               0.0           1      3  0.725028  \n",
       "4             123.0           2      4  0.725028  \n",
       "5               0.0           1      3  0.725028  "
      ]
     },
     "execution_count": 289,
     "metadata": {},
     "output_type": "execute_result"
    }
   ],
   "source": [
    "tdata.head()"
   ]
  },
  {
   "cell_type": "code",
   "execution_count": 290,
   "metadata": {},
   "outputs": [],
   "source": [
    "X_train, X_test, y_train, y_test = train_test_split(tdata,y,test_size=0.3,random_state=22)\n",
    "RFC2 = RandomForestClassifier(n_estimators=80, min_samples_split=12, min_samples_leaf=1,oob_score=True, random_state=22)"
   ]
  },
  {
   "cell_type": "code",
   "execution_count": 291,
   "metadata": {},
   "outputs": [
    {
     "name": "stderr",
     "output_type": "stream",
     "text": [
      "/miniconda3/lib/python3.7/site-packages/ipykernel_launcher.py:1: DataConversionWarning: A column-vector y was passed when a 1d array was expected. Please change the shape of y to (n_samples,), for example using ravel().\n",
      "  \"\"\"Entry point for launching an IPython kernel.\n"
     ]
    },
    {
     "data": {
      "text/plain": [
       "RandomForestClassifier(bootstrap=True, class_weight=None, criterion='gini',\n",
       "            max_depth=None, max_features='auto', max_leaf_nodes=None,\n",
       "            min_impurity_decrease=0.0, min_impurity_split=None,\n",
       "            min_samples_leaf=1, min_samples_split=12,\n",
       "            min_weight_fraction_leaf=0.0, n_estimators=80, n_jobs=None,\n",
       "            oob_score=True, random_state=22, verbose=0, warm_start=False)"
      ]
     },
     "execution_count": 291,
     "metadata": {},
     "output_type": "execute_result"
    }
   ],
   "source": [
    "RFC2.fit(X_train,y_train)"
   ]
  },
  {
   "cell_type": "code",
   "execution_count": 292,
   "metadata": {},
   "outputs": [
    {
     "name": "stdout",
     "output_type": "stream",
     "text": [
      "Classification Accuracy is : 80.59701492537313 %\n",
      "Confusion Matrix is:\n",
      " [[144  20]\n",
      " [ 32  72]]\n",
      "Classification Error is:\n",
      " 19.40298507462687 %\n"
     ]
    }
   ],
   "source": [
    "y_pred = RFC2.predict(X_test)\n",
    "print(\"Classification Accuracy is :\",metrics.accuracy_score(y_test, y_pred)*100,\"%\")\n",
    "print(\"Confusion Matrix is:\\n\",metrics.confusion_matrix(y_test, y_pred))\n",
    "print(\"Classification Error is:\\n\",100-metrics.accuracy_score(y_test, y_pred)*100,\"%\")"
   ]
  },
  {
   "cell_type": "code",
   "execution_count": 293,
   "metadata": {},
   "outputs": [
    {
     "name": "stderr",
     "output_type": "stream",
     "text": [
      "/miniconda3/lib/python3.7/site-packages/sklearn/model_selection/_validation.py:528: DataConversionWarning: A column-vector y was passed when a 1d array was expected. Please change the shape of y to (n_samples,), for example using ravel().\n",
      "  estimator.fit(X_train, y_train, **fit_params)\n",
      "/miniconda3/lib/python3.7/site-packages/sklearn/model_selection/_validation.py:528: DataConversionWarning: A column-vector y was passed when a 1d array was expected. Please change the shape of y to (n_samples,), for example using ravel().\n",
      "  estimator.fit(X_train, y_train, **fit_params)\n",
      "/miniconda3/lib/python3.7/site-packages/sklearn/model_selection/_validation.py:528: DataConversionWarning: A column-vector y was passed when a 1d array was expected. Please change the shape of y to (n_samples,), for example using ravel().\n",
      "  estimator.fit(X_train, y_train, **fit_params)\n",
      "/miniconda3/lib/python3.7/site-packages/sklearn/model_selection/_validation.py:528: DataConversionWarning: A column-vector y was passed when a 1d array was expected. Please change the shape of y to (n_samples,), for example using ravel().\n",
      "  estimator.fit(X_train, y_train, **fit_params)\n",
      "/miniconda3/lib/python3.7/site-packages/sklearn/model_selection/_validation.py:528: DataConversionWarning: A column-vector y was passed when a 1d array was expected. Please change the shape of y to (n_samples,), for example using ravel().\n",
      "  estimator.fit(X_train, y_train, **fit_params)\n"
     ]
    },
    {
     "name": "stdout",
     "output_type": "stream",
     "text": [
      "Average accuracy score from cv: 83.61980177935425 %\n",
      "Classification Accuracy score variance from cv: 0.0005517114082639682\n"
     ]
    }
   ],
   "source": [
    "scores2 = cross_val_score(RFC2,tdata,y,cv=5)\n",
    "print(\"Average accuracy score from cv:\",np.mean(scores2)*100,\"%\")\n",
    "print(\"Classification Accuracy score variance from cv:\",np.var(scores2))"
   ]
  },
  {
   "cell_type": "markdown",
   "metadata": {},
   "source": [
    "### Update testing summary\n",
    "\n",
    "| Model Type | Parameters | Classification Accuracy(%) | Confusion Matrix | CV model variance |\n",
    "| --- | --- | --- | --- | --- |\n",
    "| Pure Guess | Guess based on Majority(Deceased) | 61.62 | [[549,0][342,0]]| None |\n",
    "| Random Forest | Default cleaned data, gini, min_samples_split=12, min_samples_leaf=1, 80 estimators | cv average 83.95 | [[147,17][33,71]]| 8.6*10^-4 |\n",
    "| Random Forest | Combined FamilySize, RankC | cv average 84.18 | [[143,21][33,71]]| 5.5*10^-4 |\n",
    "| Random Forest | Combined FamilySize, RankC, frequencyEcode 'Embarked'| cv average 83.62 | [[144,20][32,79]]| 5.52*10^-4 |"
   ]
  },
  {
   "cell_type": "markdown",
   "metadata": {},
   "source": [
    "#### Concludes that changing 'Embarked' to frequency encoding does not improve model performance much."
   ]
  },
  {
   "cell_type": "markdown",
   "metadata": {},
   "source": [
    "#### Try modify the categories of 'Name' columns"
   ]
  },
  {
   "cell_type": "code",
   "execution_count": 294,
   "metadata": {},
   "outputs": [
    {
     "data": {
      "text/plain": [
       "1     517\n",
       "3     182\n",
       "2     125\n",
       "5      40\n",
       "10      7\n",
       "9       6\n",
       "18      2\n",
       "8       2\n",
       "15      2\n",
       "14      1\n",
       "13      1\n",
       "11      1\n",
       "7       1\n",
       "4       1\n",
       "16      1\n",
       "17      1\n",
       "19      1\n",
       "Name: Name, dtype: int64"
      ]
     },
     "execution_count": 294,
     "metadata": {},
     "output_type": "execute_result"
    }
   ],
   "source": [
    "## Try classifying the 'Name' columns further more. See if it enhance the model.\n",
    "tdata.Name.value_counts()"
   ]
  },
  {
   "cell_type": "code",
   "execution_count": 295,
   "metadata": {},
   "outputs": [],
   "source": [
    "tdata = pd.read_csv('cleaned_train.csv',index_col='PassengerId')\n",
    "tdata=tdata.drop(columns=['Survived'],axis =1)\n",
    "tdata['familySize']=tdata['SibSp']+tdata['Parch']+1\n",
    "tdata['RankC']=tdata['Pclass']+tdata['CabinC']"
   ]
  },
  {
   "cell_type": "markdown",
   "metadata": {},
   "source": [
    "#### According to data cleaning step mapping of 'Name', mapping dictionary is :   \n",
    "##### {'Mr.':1,'Mrs.':2,'Miss.':3,'Ms.':4,'Master.':5,'Mrs':6,'Capt.':7,'Col.':8,'Rev.':9,'Dr.':10,'Don.':11,\n",
    "##### 'Dona.':12,'Jonkheer.':13,'Lady.':14,'Major.':15,'Sir.':16,'Countess.':17,'Mlle.':18,'Mme.':19}\n",
    "#### Then, category 1-6 are frequent categories. And can be classified to 'Female', 'Male' \n",
    "#### and 'Kid'. While all other 6-18 can be put into 'infrequent' class."
   ]
  },
  {
   "cell_type": "code",
   "execution_count": 296,
   "metadata": {},
   "outputs": [],
   "source": [
    "remap= { 1:1,2:2,3:2,4:2,5:3,6:2,7:4,8:4,9:4,10:4,11:4,12:4,13:4,14:2,15:4,16:1,17:4,18:4,19:4}\n",
    "tdata['Name']=tdata['Name'].map(remap)"
   ]
  },
  {
   "cell_type": "code",
   "execution_count": 297,
   "metadata": {},
   "outputs": [],
   "source": [
    "X_train, X_test, y_train, y_test = train_test_split(tdata,y,test_size=0.3,random_state=22)\n",
    "RFC3 = RandomForestClassifier(n_estimators=80, min_samples_split=12, min_samples_leaf=1,oob_score=True,random_state=22)"
   ]
  },
  {
   "cell_type": "code",
   "execution_count": 298,
   "metadata": {},
   "outputs": [
    {
     "name": "stderr",
     "output_type": "stream",
     "text": [
      "/miniconda3/lib/python3.7/site-packages/ipykernel_launcher.py:1: DataConversionWarning: A column-vector y was passed when a 1d array was expected. Please change the shape of y to (n_samples,), for example using ravel().\n",
      "  \"\"\"Entry point for launching an IPython kernel.\n"
     ]
    },
    {
     "data": {
      "text/plain": [
       "RandomForestClassifier(bootstrap=True, class_weight=None, criterion='gini',\n",
       "            max_depth=None, max_features='auto', max_leaf_nodes=None,\n",
       "            min_impurity_decrease=0.0, min_impurity_split=None,\n",
       "            min_samples_leaf=1, min_samples_split=12,\n",
       "            min_weight_fraction_leaf=0.0, n_estimators=80, n_jobs=None,\n",
       "            oob_score=True, random_state=22, verbose=0, warm_start=False)"
      ]
     },
     "execution_count": 298,
     "metadata": {},
     "output_type": "execute_result"
    }
   ],
   "source": [
    "RFC3.fit(X_train,y_train)"
   ]
  },
  {
   "cell_type": "code",
   "execution_count": 299,
   "metadata": {},
   "outputs": [
    {
     "name": "stdout",
     "output_type": "stream",
     "text": [
      "Classification Accuracy is : 81.34328358208955 %\n",
      "Confusion Matrix is:\n",
      " [[147  17]\n",
      " [ 33  71]]\n",
      "Classification Error is:\n",
      " 18.656716417910445 %\n"
     ]
    }
   ],
   "source": [
    "y_pred = RFC3.predict(X_test)\n",
    "print(\"Classification Accuracy is :\",metrics.accuracy_score(y_test, y_pred)*100,\"%\")\n",
    "print(\"Confusion Matrix is:\\n\",metrics.confusion_matrix(y_test, y_pred))\n",
    "print(\"Classification Error is:\\n\",100-metrics.accuracy_score(y_test, y_pred)*100,\"%\")"
   ]
  },
  {
   "cell_type": "code",
   "execution_count": 300,
   "metadata": {},
   "outputs": [
    {
     "name": "stderr",
     "output_type": "stream",
     "text": [
      "/miniconda3/lib/python3.7/site-packages/sklearn/model_selection/_validation.py:528: DataConversionWarning: A column-vector y was passed when a 1d array was expected. Please change the shape of y to (n_samples,), for example using ravel().\n",
      "  estimator.fit(X_train, y_train, **fit_params)\n",
      "/miniconda3/lib/python3.7/site-packages/sklearn/model_selection/_validation.py:528: DataConversionWarning: A column-vector y was passed when a 1d array was expected. Please change the shape of y to (n_samples,), for example using ravel().\n",
      "  estimator.fit(X_train, y_train, **fit_params)\n",
      "/miniconda3/lib/python3.7/site-packages/sklearn/model_selection/_validation.py:528: DataConversionWarning: A column-vector y was passed when a 1d array was expected. Please change the shape of y to (n_samples,), for example using ravel().\n",
      "  estimator.fit(X_train, y_train, **fit_params)\n",
      "/miniconda3/lib/python3.7/site-packages/sklearn/model_selection/_validation.py:528: DataConversionWarning: A column-vector y was passed when a 1d array was expected. Please change the shape of y to (n_samples,), for example using ravel().\n",
      "  estimator.fit(X_train, y_train, **fit_params)\n"
     ]
    },
    {
     "name": "stdout",
     "output_type": "stream",
     "text": [
      "Average accuracy score from cv: 83.05989424023872 %\n",
      "Classification Accuracy score variance from cv: 0.0006236620683643984\n"
     ]
    },
    {
     "name": "stderr",
     "output_type": "stream",
     "text": [
      "/miniconda3/lib/python3.7/site-packages/sklearn/model_selection/_validation.py:528: DataConversionWarning: A column-vector y was passed when a 1d array was expected. Please change the shape of y to (n_samples,), for example using ravel().\n",
      "  estimator.fit(X_train, y_train, **fit_params)\n"
     ]
    }
   ],
   "source": [
    "scores3 = cross_val_score(RFC3,tdata,y,cv=5)\n",
    "print(\"Average accuracy score from cv:\",np.mean(scores3)*100,\"%\")\n",
    "print(\"Classification Accuracy score variance from cv:\",np.var(scores3))"
   ]
  },
  {
   "cell_type": "code",
   "execution_count": 301,
   "metadata": {},
   "outputs": [
    {
     "data": {
      "image/png": "[encoded data removed]",
      "text/plain": [
       "<Figure size 1152x432 with 1 Axes>"
      ]
     },
     "metadata": {
      "needs_background": "light"
     },
     "output_type": "display_data"
    }
   ],
   "source": [
    "## replot feature importance\n",
    "plot_ft_imp(tdata,RFC3.feature_importances_)"
   ]
  },
  {
   "cell_type": "markdown",
   "metadata": {},
   "source": [
    "#### Name feature still has a strong impact on the model. But all other features seem to look more correlated with data exploration findings."
   ]
  },
  {
   "cell_type": "markdown",
   "metadata": {},
   "source": [
    "### Update testing summary\n",
    "\n",
    "| Model Type | Parameters | Classification Accuracy(%) | Confusion Matrix | CV model variance |\n",
    "| --- | --- | --- | --- | --- |\n",
    "| Pure Guess | Guess based on Majority(Deceased) | 61.62 | [[549,0][342,0]]| None |\n",
    "| Random Forest | Default cleaned data, gini, min_samples_split=12, min_samples_leaf=1, 80 estimators | cv average 83.95 | [[147,17][33,71]]| 8.6*10^-4 |\n",
    "| Random Forest | Combined FamilySize, RankC | cv average 84.18 | [[143,21][33,71]]| 5.5*10^-4 |\n",
    "| Random Forest | Combined FamilySize, RankC, frequencyEcode 'Embarked'| cv average 83.62 | [[144,20][32,79]]| 5.52*10^-4 |\n",
    "| Random Forest | Data features remain, but remapped 'Name' into less categories | cv average 83.05 | [[147,17][33,71]] | 6.2*10^-4"
   ]
  },
  {
   "cell_type": "markdown",
   "metadata": {},
   "source": [
    "#### According to the above testing on feature engineering, I decide to go with model that only does the combination of 'Parch' and 'SipSp'."
   ]
  },
  {
   "cell_type": "code",
   "execution_count": 303,
   "metadata": {},
   "outputs": [],
   "source": [
    "tdata = pd.read_csv('cleaned_train.csv',index_col=0)\n",
    "tdata['familySize']=tdata['SibSp']+tdata['Parch']+1\n",
    "tdata=tdata.drop(columns=['Survived'])\n",
    "\n",
    "X_train, X_test, y_train, y_test = train_test_split(tdata,y,test_size=0.3,random_state=22)\n",
    "RFC4 = RandomForestClassifier(n_estimators=80, min_samples_split=12, min_samples_leaf=1,oob_score=True,random_state=22)"
   ]
  },
  {
   "cell_type": "code",
   "execution_count": 304,
   "metadata": {},
   "outputs": [
    {
     "name": "stderr",
     "output_type": "stream",
     "text": [
      "/miniconda3/lib/python3.7/site-packages/ipykernel_launcher.py:1: DataConversionWarning: A column-vector y was passed when a 1d array was expected. Please change the shape of y to (n_samples,), for example using ravel().\n",
      "  \"\"\"Entry point for launching an IPython kernel.\n"
     ]
    },
    {
     "data": {
      "text/plain": [
       "RandomForestClassifier(bootstrap=True, class_weight=None, criterion='gini',\n",
       "            max_depth=None, max_features='auto', max_leaf_nodes=None,\n",
       "            min_impurity_decrease=0.0, min_impurity_split=None,\n",
       "            min_samples_leaf=1, min_samples_split=12,\n",
       "            min_weight_fraction_leaf=0.0, n_estimators=80, n_jobs=None,\n",
       "            oob_score=True, random_state=22, verbose=0, warm_start=False)"
      ]
     },
     "execution_count": 304,
     "metadata": {},
     "output_type": "execute_result"
    }
   ],
   "source": [
    "RFC4.fit(X_train,y_train)"
   ]
  },
  {
   "cell_type": "code",
   "execution_count": 305,
   "metadata": {},
   "outputs": [
    {
     "name": "stdout",
     "output_type": "stream",
     "text": [
      "Classification Accuracy is : 81.34328358208955 %\n",
      "Confusion Matrix is:\n",
      " [[146  18]\n",
      " [ 32  72]]\n",
      "Classification Error is:\n",
      " 18.656716417910445 %\n"
     ]
    }
   ],
   "source": [
    "y_pred = RFC4.predict(X_test)\n",
    "print(\"Classification Accuracy is :\",metrics.accuracy_score(y_test, y_pred)*100,\"%\")\n",
    "print(\"Confusion Matrix is:\\n\",metrics.confusion_matrix(y_test, y_pred))\n",
    "print(\"Classification Error is:\\n\",100-metrics.accuracy_score(y_test, y_pred)*100,\"%\")"
   ]
  },
  {
   "cell_type": "code",
   "execution_count": 306,
   "metadata": {},
   "outputs": [
    {
     "name": "stderr",
     "output_type": "stream",
     "text": [
      "/miniconda3/lib/python3.7/site-packages/sklearn/model_selection/_validation.py:528: DataConversionWarning: A column-vector y was passed when a 1d array was expected. Please change the shape of y to (n_samples,), for example using ravel().\n",
      "  estimator.fit(X_train, y_train, **fit_params)\n",
      "/miniconda3/lib/python3.7/site-packages/sklearn/model_selection/_validation.py:528: DataConversionWarning: A column-vector y was passed when a 1d array was expected. Please change the shape of y to (n_samples,), for example using ravel().\n",
      "  estimator.fit(X_train, y_train, **fit_params)\n",
      "/miniconda3/lib/python3.7/site-packages/sklearn/model_selection/_validation.py:528: DataConversionWarning: A column-vector y was passed when a 1d array was expected. Please change the shape of y to (n_samples,), for example using ravel().\n",
      "  estimator.fit(X_train, y_train, **fit_params)\n",
      "/miniconda3/lib/python3.7/site-packages/sklearn/model_selection/_validation.py:528: DataConversionWarning: A column-vector y was passed when a 1d array was expected. Please change the shape of y to (n_samples,), for example using ravel().\n",
      "  estimator.fit(X_train, y_train, **fit_params)\n",
      "/miniconda3/lib/python3.7/site-packages/sklearn/model_selection/_validation.py:528: DataConversionWarning: A column-vector y was passed when a 1d array was expected. Please change the shape of y to (n_samples,), for example using ravel().\n",
      "  estimator.fit(X_train, y_train, **fit_params)\n"
     ]
    },
    {
     "name": "stdout",
     "output_type": "stream",
     "text": [
      "Average accuracy score from cv: 83.95751523076032 %\n",
      "Classification Accuracy score variance from cv: 0.0006236620683643984\n"
     ]
    }
   ],
   "source": [
    "scores4 = cross_val_score(RFC4,tdata,y,cv=5)\n",
    "print(\"Average accuracy score from cv:\",np.mean(scores4)*100,\"%\")\n",
    "print(\"Classification Accuracy score variance from cv:\",np.var(scores3))"
   ]
  },
  {
   "cell_type": "code",
   "execution_count": 308,
   "metadata": {},
   "outputs": [
    {
     "name": "stderr",
     "output_type": "stream",
     "text": [
      "/miniconda3/lib/python3.7/site-packages/ipykernel_launcher.py:2: DataConversionWarning: A column-vector y was passed when a 1d array was expected. Please change the shape of y to (n_samples,), for example using ravel().\n",
      "  \n"
     ]
    },
    {
     "data": {
      "text/plain": [
       "RandomForestClassifier(bootstrap=True, class_weight=None, criterion='gini',\n",
       "            max_depth=None, max_features='auto', max_leaf_nodes=None,\n",
       "            min_impurity_decrease=0.0, min_impurity_split=None,\n",
       "            min_samples_leaf=1, min_samples_split=12,\n",
       "            min_weight_fraction_leaf=0.0, n_estimators=80, n_jobs=None,\n",
       "            oob_score=True, random_state=22, verbose=0, warm_start=False)"
      ]
     },
     "execution_count": 308,
     "metadata": {},
     "output_type": "execute_result"
    }
   ],
   "source": [
    "# Train with entire training dataset\n",
    "RFC4.fit(tdata,y)"
   ]
  },
  {
   "cell_type": "code",
   "execution_count": 311,
   "metadata": {},
   "outputs": [],
   "source": [
    "#load test data\n",
    "testd = pd.read_csv('cleaned_test.csv',index_col='PassengerId')\n",
    "testd['familySize']=testd['SibSp']+testd['Parch']+1"
   ]
  },
  {
   "cell_type": "code",
   "execution_count": 312,
   "metadata": {},
   "outputs": [],
   "source": [
    "test_pred=RFC4.predict(testd)"
   ]
  },
  {
   "cell_type": "code",
   "execution_count": 313,
   "metadata": {},
   "outputs": [],
   "source": [
    "fea_eg_res = pd.read_csv('cleaned_test.csv',usecols=['PassengerId'])\n",
    "fea_eg_res['Survived']=test_pred"
   ]
  },
  {
   "cell_type": "code",
   "execution_count": 314,
   "metadata": {},
   "outputs": [],
   "source": [
    "fea_eg_res.to_csv('prediction3.csv',index=None)"
   ]
  },
  {
   "cell_type": "markdown",
   "metadata": {},
   "source": [
    "#### Above I used the last set of feature engineering, Same Random Forest model hyper-parameters to do a prediction. Submit to Kaggle, The result yields ranking #1239(11%), score 0.8038. A 2.9% improvement."
   ]
  },
  {
   "cell_type": "code",
   "execution_count": null,
   "metadata": {},
   "outputs": [],
   "source": []
  }
 ],
 "metadata": {
  "kernelspec": {
   "display_name": "Python 3",
   "language": "python",
   "name": "python3"
  },
  "language_info": {
   "codemirror_mode": {
    "name": "ipython",
    "version": 3
   },
   "file_extension": ".py",
   "mimetype": "text/x-python",
   "name": "python",
   "nbconvert_exporter": "python",
   "pygments_lexer": "ipython3",
   "version": "3.7.3"
  }
 },
 "nbformat": 4,
 "nbformat_minor": 2
}
