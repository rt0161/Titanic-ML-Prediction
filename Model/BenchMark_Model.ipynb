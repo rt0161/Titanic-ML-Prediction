{
 "cells": [
  {
   "cell_type": "code",
   "execution_count": 8,
   "metadata": {},
   "outputs": [],
   "source": [
    "import pandas as pd\n",
    "import numpy as np\n",
    "from Data_Cleaning_v import datacleanprep"
   ]
  },
  {
   "cell_type": "code",
   "execution_count": 5,
   "metadata": {},
   "outputs": [],
   "source": [
    "df=pd.read_csv('train.csv',index_col=0)"
   ]
  },
  {
   "cell_type": "code",
   "execution_count": 9,
   "metadata": {},
   "outputs": [],
   "source": [
    "df = datacleanprep('train.csv')"
   ]
  },
  {
   "cell_type": "code",
   "execution_count": 10,
   "metadata": {},
   "outputs": [
    {
     "name": "stdout",
     "output_type": "stream",
     "text": [
      "<class 'pandas.core.frame.DataFrame'>\n",
      "Int64Index: 891 entries, 1 to 891\n",
      "Data columns (total 11 columns):\n",
      "Survived    891 non-null int64\n",
      "Pclass      891 non-null int64\n",
      "Name        891 non-null int64\n",
      "Sex         891 non-null int64\n",
      "Age         891 non-null float64\n",
      "SibSp       891 non-null int64\n",
      "Parch       891 non-null int64\n",
      "Fare        891 non-null float64\n",
      "Embarked    891 non-null int64\n",
      "CabinC      891 non-null int64\n",
      "CabinN      891 non-null float64\n",
      "dtypes: float64(3), int64(8)\n",
      "memory usage: 83.5 KB\n"
     ]
    }
   ],
   "source": [
    "df.info()"
   ]
  },
  {
   "cell_type": "code",
   "execution_count": 11,
   "metadata": {},
   "outputs": [
    {
     "data": {
      "text/html": [
       "<div>\n",
       "<style scoped>\n",
       "    .dataframe tbody tr th:only-of-type {\n",
       "        vertical-align: middle;\n",
       "    }\n",
       "\n",
       "    .dataframe tbody tr th {\n",
       "        vertical-align: top;\n",
       "    }\n",
       "\n",
       "    .dataframe thead th {\n",
       "        text-align: right;\n",
       "    }\n",
       "</style>\n",
       "<table border=\"1\" class=\"dataframe\">\n",
       "  <thead>\n",
       "    <tr style=\"text-align: right;\">\n",
       "      <th></th>\n",
       "      <th>Survived</th>\n",
       "      <th>Pclass</th>\n",
       "      <th>Name</th>\n",
       "      <th>Sex</th>\n",
       "      <th>Age</th>\n",
       "      <th>SibSp</th>\n",
       "      <th>Parch</th>\n",
       "      <th>Fare</th>\n",
       "      <th>Embarked</th>\n",
       "      <th>CabinC</th>\n",
       "      <th>CabinN</th>\n",
       "    </tr>\n",
       "    <tr>\n",
       "      <th>PassengerId</th>\n",
       "      <th></th>\n",
       "      <th></th>\n",
       "      <th></th>\n",
       "      <th></th>\n",
       "      <th></th>\n",
       "      <th></th>\n",
       "      <th></th>\n",
       "      <th></th>\n",
       "      <th></th>\n",
       "      <th></th>\n",
       "      <th></th>\n",
       "    </tr>\n",
       "  </thead>\n",
       "  <tbody>\n",
       "    <tr>\n",
       "      <th>1</th>\n",
       "      <td>0</td>\n",
       "      <td>3</td>\n",
       "      <td>1</td>\n",
       "      <td>1</td>\n",
       "      <td>22.0</td>\n",
       "      <td>1</td>\n",
       "      <td>0</td>\n",
       "      <td>7.2500</td>\n",
       "      <td>1</td>\n",
       "      <td>0</td>\n",
       "      <td>0.0</td>\n",
       "    </tr>\n",
       "    <tr>\n",
       "      <th>2</th>\n",
       "      <td>1</td>\n",
       "      <td>1</td>\n",
       "      <td>2</td>\n",
       "      <td>0</td>\n",
       "      <td>38.0</td>\n",
       "      <td>1</td>\n",
       "      <td>0</td>\n",
       "      <td>71.2833</td>\n",
       "      <td>0</td>\n",
       "      <td>3</td>\n",
       "      <td>85.0</td>\n",
       "    </tr>\n",
       "    <tr>\n",
       "      <th>3</th>\n",
       "      <td>1</td>\n",
       "      <td>3</td>\n",
       "      <td>3</td>\n",
       "      <td>0</td>\n",
       "      <td>26.0</td>\n",
       "      <td>0</td>\n",
       "      <td>0</td>\n",
       "      <td>7.9250</td>\n",
       "      <td>1</td>\n",
       "      <td>0</td>\n",
       "      <td>0.0</td>\n",
       "    </tr>\n",
       "    <tr>\n",
       "      <th>4</th>\n",
       "      <td>1</td>\n",
       "      <td>1</td>\n",
       "      <td>2</td>\n",
       "      <td>0</td>\n",
       "      <td>35.0</td>\n",
       "      <td>1</td>\n",
       "      <td>0</td>\n",
       "      <td>53.1000</td>\n",
       "      <td>1</td>\n",
       "      <td>3</td>\n",
       "      <td>123.0</td>\n",
       "    </tr>\n",
       "    <tr>\n",
       "      <th>5</th>\n",
       "      <td>0</td>\n",
       "      <td>3</td>\n",
       "      <td>1</td>\n",
       "      <td>1</td>\n",
       "      <td>35.0</td>\n",
       "      <td>0</td>\n",
       "      <td>0</td>\n",
       "      <td>8.0500</td>\n",
       "      <td>1</td>\n",
       "      <td>0</td>\n",
       "      <td>0.0</td>\n",
       "    </tr>\n",
       "  </tbody>\n",
       "</table>\n",
       "</div>"
      ],
      "text/plain": [
       "             Survived  Pclass  Name  Sex   Age  SibSp  Parch     Fare  \\\n",
       "PassengerId                                                             \n",
       "1                   0       3     1    1  22.0      1      0   7.2500   \n",
       "2                   1       1     2    0  38.0      1      0  71.2833   \n",
       "3                   1       3     3    0  26.0      0      0   7.9250   \n",
       "4                   1       1     2    0  35.0      1      0  53.1000   \n",
       "5                   0       3     1    1  35.0      0      0   8.0500   \n",
       "\n",
       "             Embarked  CabinC  CabinN  \n",
       "PassengerId                            \n",
       "1                   1       0     0.0  \n",
       "2                   0       3    85.0  \n",
       "3                   1       0     0.0  \n",
       "4                   1       3   123.0  \n",
       "5                   1       0     0.0  "
      ]
     },
     "execution_count": 11,
     "metadata": {},
     "output_type": "execute_result"
    }
   ],
   "source": [
    "df.head()"
   ]
  },
  {
   "cell_type": "code",
   "execution_count": null,
   "metadata": {},
   "outputs": [],
   "source": [
    "# separate the target column\n",
    "y = df.pop('Survived')"
   ]
  },
  {
   "cell_type": "markdown",
   "metadata": {},
   "source": [
    "#### From now on, I will do a series of tests for JUDGING WHAT MODEL TO CHOOSE for ML on this dataset"
   ]
  },
  {
   "cell_type": "code",
   "execution_count": 29,
   "metadata": {},
   "outputs": [],
   "source": [
    "# start with plain cleaned data and try 3 ML models\n",
    "# first one is linear model:\n",
    "from sklearn.model_selection import train_test_split\n",
    "from sklearn.linear_model import SGDClassifier\n",
    "clf = SGDClassifier(random_state=0, tol=1e-4,max_iter=500)"
   ]
  },
  {
   "cell_type": "markdown",
   "metadata": {},
   "source": [
    "### Train-Test Split: procedure for initial testing of a ML model as benchmark--\n",
    "#### Use the same, simple, one split of 30%(testing)- 70%(training) to the dataset \n",
    "#### Use the same training to train different ML models, evaluate based on same testing dataset.\n",
    "#### Based on performance, choose the final ML model to further the work"
   ]
  },
  {
   "cell_type": "code",
   "execution_count": 15,
   "metadata": {},
   "outputs": [],
   "source": [
    "X_train, X_test, y_train, y_test = train_test_split(df,y,test_size=0.3,random_state=22)\n",
    "# divide train-test split"
   ]
  },
  {
   "cell_type": "code",
   "execution_count": 30,
   "metadata": {},
   "outputs": [
    {
     "data": {
      "text/plain": [
       "SGDClassifier(alpha=0.0001, average=False, class_weight=None,\n",
       "       early_stopping=False, epsilon=0.1, eta0=0.0, fit_intercept=True,\n",
       "       l1_ratio=0.15, learning_rate='optimal', loss='hinge', max_iter=500,\n",
       "       n_iter=None, n_iter_no_change=5, n_jobs=None, penalty='l2',\n",
       "       power_t=0.5, random_state=0, shuffle=True, tol=0.0001,\n",
       "       validation_fraction=0.1, verbose=0, warm_start=False)"
      ]
     },
     "execution_count": 30,
     "metadata": {},
     "output_type": "execute_result"
    }
   ],
   "source": [
    "clf.fit(X_train,y_train)"
   ]
  },
  {
   "cell_type": "code",
   "execution_count": 31,
   "metadata": {},
   "outputs": [],
   "source": [
    "y_pred = clf.predict(X_test)"
   ]
  },
  {
   "cell_type": "markdown",
   "metadata": {},
   "source": [
    "### Benchmark accuracy (Null Accuracy): \n",
    "#### The accuracy that if a model only predicts the majority class for all predictions. This can be the based case we can always compare to"
   ]
  },
  {
   "cell_type": "code",
   "execution_count": 32,
   "metadata": {},
   "outputs": [
    {
     "name": "stdout",
     "output_type": "stream",
     "text": [
      " The Null accuracy is: 61.61616161616161 %\n"
     ]
    }
   ],
   "source": [
    "print(\" The Null accuracy is:\",(len(df)-sum(y.values))/len(df)*100,\"%\")"
   ]
  },
  {
   "cell_type": "markdown",
   "metadata": {},
   "source": [
    "### Evaluate Model Performance:(Linear SGD)"
   ]
  },
  {
   "cell_type": "code",
   "execution_count": 33,
   "metadata": {},
   "outputs": [
    {
     "name": "stdout",
     "output_type": "stream",
     "text": [
      "Classification Accuracy is : 76.49253731343283 %\n"
     ]
    }
   ],
   "source": [
    "from sklearn import metrics\n",
    "print(\"Classification Accuracy is :\",metrics.accuracy_score(y_test, y_pred)*100,\"%\")\n",
    "#def>> Classification Accuracy: Overall, how often is the classifier correct?"
   ]
  },
  {
   "cell_type": "code",
   "execution_count": 38,
   "metadata": {},
   "outputs": [
    {
     "name": "stdout",
     "output_type": "stream",
     "text": [
      "Confusion Matrix is:\n",
      " [[123  41]\n",
      " [ 22  82]]\n",
      "Classification Error is:\n",
      " 23.507462686567166 %\n"
     ]
    }
   ],
   "source": [
    "print(\"Confusion Matrix is:\\n\",metrics.confusion_matrix(y_test, y_pred))\n",
    "print(\"Classification Error is:\\n\",100-metrics.accuracy_score(y_test, y_pred)*100,\"%\")\n",
    "# def>> Classification Error: Overall, how often is the classifier incorrect?"
   ]
  },
  {
   "cell_type": "markdown",
   "metadata": {},
   "source": [
    "###  Confusion Matrix : a way to check the quality of classification predicitions out of a ML model\n",
    "##### Confusion Matrix is composed of four sections, which are : TN(True Negative)/TP(True Positive)/FN(False Negative)/FP(False Positive)\n",
    "\n",
    "| n=891               | Predicted: Deceased(0) | Predicted : Survived(1) |\n",
    "|---------------------|------------------------|-------------------------|\n",
    "| Actual: Deceased(0) | # of TN                | # of FP                 |\n",
    "| Actual: Survived(1) | # of FN                | # of TP                 |\n",
    "\n",
    "#### Definitions:\n",
    "##### True Positive(TP):These are cases in which we predicted Survival(1), and they did survive(1).\n",
    "##### True negatives (TN): We predicted they died(0), and they did (0).\n",
    "##### False positives (FP): We predicted that they died(0), but they actually did not(1). (Also known as a \"Type I error.\")\n",
    "##### False negatives (FN): We predicted they survived(1), but they actually died(0). (Also known as a \"Type II error.\")\n",
    "\n",
    "##### There are also quite some other scores that can be calculated :\n",
    "https://www.dataschool.io/simple-guide-to-confusion-matrix-terminology/\n",
    "\n",
    "#### Here , I would prefer to use the full confusion matrix to observe model performance on predicting accurate results"
   ]
  },
  {
   "cell_type": "code",
   "execution_count": null,
   "metadata": {},
   "outputs": [],
   "source": [
    "# Test second model:  LogisticRegression"
   ]
  },
  {
   "cell_type": "code",
   "execution_count": 39,
   "metadata": {},
   "outputs": [],
   "source": [
    "from sklearn.linear_model import LogisticRegression\n",
    "clf1 = LogisticRegression(random_state=22, solver='lbfgs', max_iter=300)"
   ]
  },
  {
   "cell_type": "code",
   "execution_count": 40,
   "metadata": {},
   "outputs": [
    {
     "data": {
      "text/plain": [
       "LogisticRegression(C=1.0, class_weight=None, dual=False, fit_intercept=True,\n",
       "          intercept_scaling=1, max_iter=300, multi_class='warn',\n",
       "          n_jobs=None, penalty='l2', random_state=22, solver='lbfgs',\n",
       "          tol=0.0001, verbose=0, warm_start=False)"
      ]
     },
     "execution_count": 40,
     "metadata": {},
     "output_type": "execute_result"
    }
   ],
   "source": [
    "clf1.fit(X_train,y_train)"
   ]
  },
  {
   "cell_type": "markdown",
   "metadata": {},
   "source": [
    "### Evaluate Model Performance:(Logistic Regression)"
   ]
  },
  {
   "cell_type": "code",
   "execution_count": 41,
   "metadata": {},
   "outputs": [
    {
     "name": "stdout",
     "output_type": "stream",
     "text": [
      "Classification Accuracy is : 79.8507462686567 %\n",
      "Confusion Matrix is:\n",
      " [[139  25]\n",
      " [ 29  75]]\n",
      "Classification Error is:\n",
      " 20.149253731343293 %\n"
     ]
    }
   ],
   "source": [
    "y_pred=clf1.predict(X_test)\n",
    "print(\"Classification Accuracy is :\",metrics.accuracy_score(y_test, y_pred)*100,\"%\")\n",
    "print(\"Confusion Matrix is:\\n\",metrics.confusion_matrix(y_test, y_pred))\n",
    "print(\"Classification Error is:\\n\",100-metrics.accuracy_score(y_test, y_pred)*100,\"%\")"
   ]
  },
  {
   "cell_type": "code",
   "execution_count": 49,
   "metadata": {},
   "outputs": [],
   "source": [
    "# Test 2nd model:  Decision Tree \n",
    "from sklearn.tree import DecisionTreeClassifier\n",
    "clf2 = DecisionTreeClassifier(max_depth=7,random_state=22)"
   ]
  },
  {
   "cell_type": "code",
   "execution_count": 50,
   "metadata": {},
   "outputs": [
    {
     "data": {
      "text/plain": [
       "DecisionTreeClassifier(class_weight=None, criterion='gini', max_depth=7,\n",
       "            max_features=None, max_leaf_nodes=None,\n",
       "            min_impurity_decrease=0.0, min_impurity_split=None,\n",
       "            min_samples_leaf=1, min_samples_split=2,\n",
       "            min_weight_fraction_leaf=0.0, presort=False, random_state=22,\n",
       "            splitter='best')"
      ]
     },
     "execution_count": 50,
     "metadata": {},
     "output_type": "execute_result"
    }
   ],
   "source": [
    "clf2.fit(X_train,y_train)"
   ]
  },
  {
   "cell_type": "markdown",
   "metadata": {},
   "source": [
    "### Evaluate Model Performance:(Decision Tree)"
   ]
  },
  {
   "cell_type": "code",
   "execution_count": 51,
   "metadata": {},
   "outputs": [
    {
     "name": "stdout",
     "output_type": "stream",
     "text": [
      "Classification Accuracy is : 79.8507462686567 %\n",
      "Confusion Matrix is:\n",
      " [[137  27]\n",
      " [ 27  77]]\n",
      "Classification Error is:\n",
      " 20.149253731343293 %\n"
     ]
    }
   ],
   "source": [
    "y_pred=clf2.predict(X_test)\n",
    "print(\"Classification Accuracy is :\",metrics.accuracy_score(y_test, y_pred)*100,\"%\")\n",
    "print(\"Confusion Matrix is:\\n\",metrics.confusion_matrix(y_test, y_pred))\n",
    "print(\"Classification Error is:\\n\",100-metrics.accuracy_score(y_test, y_pred)*100,\"%\")"
   ]
  },
  {
   "cell_type": "code",
   "execution_count": 42,
   "metadata": {},
   "outputs": [],
   "source": [
    "# Test 3rd model:  Random Forest (Ensemble)\n",
    "from sklearn.ensemble import RandomForestClassifier\n",
    "clf3 = RandomForestClassifier(n_estimators=80, max_depth=6,random_state=22)"
   ]
  },
  {
   "cell_type": "code",
   "execution_count": 43,
   "metadata": {},
   "outputs": [
    {
     "data": {
      "text/plain": [
       "RandomForestClassifier(bootstrap=True, class_weight=None, criterion='gini',\n",
       "            max_depth=6, max_features='auto', max_leaf_nodes=None,\n",
       "            min_impurity_decrease=0.0, min_impurity_split=None,\n",
       "            min_samples_leaf=1, min_samples_split=2,\n",
       "            min_weight_fraction_leaf=0.0, n_estimators=80, n_jobs=None,\n",
       "            oob_score=False, random_state=22, verbose=0, warm_start=False)"
      ]
     },
     "execution_count": 43,
     "metadata": {},
     "output_type": "execute_result"
    }
   ],
   "source": [
    "clf3.fit(X_train,y_train)"
   ]
  },
  {
   "cell_type": "markdown",
   "metadata": {},
   "source": [
    "### Evaluate Model Performance:(Random forest Classifier)"
   ]
  },
  {
   "cell_type": "code",
   "execution_count": 44,
   "metadata": {},
   "outputs": [
    {
     "name": "stdout",
     "output_type": "stream",
     "text": [
      "Classification Accuracy is : 79.8507462686567 %\n",
      "Confusion Matrix is:\n",
      " [[142  22]\n",
      " [ 32  72]]\n",
      "Classification Error is:\n",
      " 20.149253731343293 %\n"
     ]
    }
   ],
   "source": [
    "y_pred=clf3.predict(X_test)\n",
    "print(\"Classification Accuracy is :\",metrics.accuracy_score(y_test, y_pred)*100,\"%\")\n",
    "print(\"Confusion Matrix is:\\n\",metrics.confusion_matrix(y_test, y_pred))\n",
    "print(\"Classification Error is:\\n\",100-metrics.accuracy_score(y_test, y_pred)*100,\"%\")"
   ]
  },
  {
   "cell_type": "markdown",
   "metadata": {},
   "source": [
    "### Compare Model Performance based on the stability of the model(free from OVERFITTING??)\n",
    "### -- Cross Validation"
   ]
  },
  {
   "cell_type": "code",
   "execution_count": 35,
   "metadata": {},
   "outputs": [],
   "source": [
    "from sklearn.model_selection import cross_val_score "
   ]
  },
  {
   "cell_type": "code",
   "execution_count": 36,
   "metadata": {},
   "outputs": [],
   "source": [
    "# measure validation score : case 0 -- Linear SVC\n",
    "scores0 = cross_val_score(clf,df,y,cv=5)"
   ]
  },
  {
   "cell_type": "code",
   "execution_count": 45,
   "metadata": {},
   "outputs": [],
   "source": [
    "# measure validation score : case 1 -- Logistic Regression\n",
    "scores1 = cross_val_score(clf1,df,y,cv=5)"
   ]
  },
  {
   "cell_type": "code",
   "execution_count": 52,
   "metadata": {},
   "outputs": [],
   "source": [
    "# measure validation score : case 2 -- Desicion Tree\n",
    "scores2 = cross_val_score(clf2,df,y,cv=5)"
   ]
  },
  {
   "cell_type": "code",
   "execution_count": 47,
   "metadata": {},
   "outputs": [],
   "source": [
    "# measure validation score : case 3 -- Random Forest\n",
    "scores3 = cross_val_score(clf3,df,y,cv=5)"
   ]
  },
  {
   "cell_type": "code",
   "execution_count": 48,
   "metadata": {},
   "outputs": [],
   "source": [
    "## Plot the 5-fold cross validation to compare model stability\n",
    "import matplotlib.pyplot as plt"
   ]
  },
  {
   "cell_type": "code",
   "execution_count": 74,
   "metadata": {},
   "outputs": [
    {
     "data": {
      "text/plain": [
       "Text(0.5, 0, 'cv number')"
      ]
     },
     "execution_count": 74,
     "metadata": {},
     "output_type": "execute_result"
    },
    {
     "data": {
      "image/png": "[encoded data removed]",
      "text/plain": [
       "<Figure size 864x648 with 1 Axes>"
      ]
     },
     "metadata": {
      "needs_background": "light"
     },
     "output_type": "display_data"
    }
   ],
   "source": [
    "plt.figure(figsize=(12,9))\n",
    "x = np.linspace(1,5,5)\n",
    "plt.plot(x,scores0,marker='o', markerfacecolor='blue', markersize=12, color='skyblue', linewidth=4, label = 'model0:SGD')\n",
    "plt.plot(x,scores1,marker='o', markerfacecolor='red', markersize=12, color='pink', linewidth=4, label = 'model1: LogisticReg')\n",
    "plt.plot(x,scores2,marker='o', markerfacecolor='green', markersize=12, color='lightgreen', linewidth=4, label = 'model1: DecTree')\n",
    "plt.plot(x,scores3,marker='o', markerfacecolor='orange', markersize=12, color='orange', linewidth=4, label = 'model1: RandomForest')\n",
    "plt.legend()\n",
    "plt.xticks([1,2,3,4,5])\n",
    "plt.title('Various model 5 fold cv performance')\n",
    "plt.ylabel('Accuracy score (out of 1)')\n",
    "plt.xlabel('cv number')"
   ]
  },
  {
   "cell_type": "markdown",
   "metadata": {},
   "source": [
    "#### We can see that Logistic Regression model and Random forest model perform much stable than SGD. And  Decision Tree model is probably larger variance in the 3 models which performs better."
   ]
  },
  {
   "cell_type": "code",
   "execution_count": 76,
   "metadata": {},
   "outputs": [
    {
     "name": "stdout",
     "output_type": "stream",
     "text": [
      "average Accuracy score SGD model: 62.03998032475502 %\n",
      "average Accuracy score LogisticRegression model: 80.69968050778303 %\n",
      "average Accuracy score Decision Tree model: 80.24960750581516 %\n",
      "average Accuracy score Random Forest model: 83.05926653325233 %\n"
     ]
    }
   ],
   "source": [
    "# print the average accuracy out of the 5 fold\n",
    "print(\"average Accuracy score SGD model:\",np.mean(scores0)*100,\"%\")\n",
    "print(\"average Accuracy score LogisticRegression model:\",np.mean(scores1)*100,\"%\")\n",
    "print(\"average Accuracy score Decision Tree model:\",np.mean(scores2)*100,\"%\")\n",
    "print(\"average Accuracy score Random Forest model:\",np.mean(scores3)*100,\"%\")"
   ]
  },
  {
   "cell_type": "markdown",
   "metadata": {},
   "source": [
    "### Based on these simple tests, I will proceed with Random Forest model. I will use initial test as benchmark, test later improvements based on it."
   ]
  },
  {
   "cell_type": "markdown",
   "metadata": {},
   "source": [
    "| Model Type | Parameters | Classification Accuracy(%) | Confusion Matrix |\n",
    "| --- | --- | --- | --- |\n",
    "| Pure Guess | Guess based on Majority(Deceased) | 61.62 | [[549,0][342,0]]|\n",
    "| Random Forest | Default cleaned data, gini, max depth=6, 80 estimators | average 83.06 | [[142,22][32,72]]|"
   ]
  }
 ],
 "metadata": {
  "kernelspec": {
   "display_name": "Python 3",
   "language": "python",
   "name": "python3"
  },
  "language_info": {
   "codemirror_mode": {
    "name": "ipython",
    "version": 3
   },
   "file_extension": ".py",
   "mimetype": "text/x-python",
   "name": "python",
   "nbconvert_exporter": "python",
   "pygments_lexer": "ipython3",
   "version": "3.7.3"
  }
 },
 "nbformat": 4,
 "nbformat_minor": 2
}
