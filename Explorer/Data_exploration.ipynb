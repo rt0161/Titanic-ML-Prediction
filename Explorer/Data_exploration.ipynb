{
 "cells": [
  {
   "cell_type": "code",
   "execution_count": 551,
   "metadata": {},
   "outputs": [],
   "source": [
    "import numpy as np\n",
    "import pandas as pd\n",
    "import matplotlib.pyplot as plt"
   ]
  },
  {
   "cell_type": "code",
   "execution_count": 552,
   "metadata": {},
   "outputs": [],
   "source": [
    "data = pd.read_csv('train.csv',index_col=0)"
   ]
  },
  {
   "cell_type": "code",
   "execution_count": 293,
   "metadata": {},
   "outputs": [
    {
     "data": {
      "text/html": [
       "<div>\n",
       "<style scoped>\n",
       "    .dataframe tbody tr th:only-of-type {\n",
       "        vertical-align: middle;\n",
       "    }\n",
       "\n",
       "    .dataframe tbody tr th {\n",
       "        vertical-align: top;\n",
       "    }\n",
       "\n",
       "    .dataframe thead th {\n",
       "        text-align: right;\n",
       "    }\n",
       "</style>\n",
       "<table border=\"1\" class=\"dataframe\">\n",
       "  <thead>\n",
       "    <tr style=\"text-align: right;\">\n",
       "      <th></th>\n",
       "      <th>Survived</th>\n",
       "      <th>Pclass</th>\n",
       "      <th>Name</th>\n",
       "      <th>Sex</th>\n",
       "      <th>Age</th>\n",
       "      <th>SibSp</th>\n",
       "      <th>Parch</th>\n",
       "      <th>Ticket</th>\n",
       "      <th>Fare</th>\n",
       "      <th>Cabin</th>\n",
       "      <th>Embarked</th>\n",
       "    </tr>\n",
       "    <tr>\n",
       "      <th>PassengerId</th>\n",
       "      <th></th>\n",
       "      <th></th>\n",
       "      <th></th>\n",
       "      <th></th>\n",
       "      <th></th>\n",
       "      <th></th>\n",
       "      <th></th>\n",
       "      <th></th>\n",
       "      <th></th>\n",
       "      <th></th>\n",
       "      <th></th>\n",
       "    </tr>\n",
       "  </thead>\n",
       "  <tbody>\n",
       "    <tr>\n",
       "      <th>1</th>\n",
       "      <td>0</td>\n",
       "      <td>3</td>\n",
       "      <td>Braund, Mr. Owen Harris</td>\n",
       "      <td>male</td>\n",
       "      <td>22.0</td>\n",
       "      <td>1</td>\n",
       "      <td>0</td>\n",
       "      <td>A/5 21171</td>\n",
       "      <td>7.2500</td>\n",
       "      <td>NaN</td>\n",
       "      <td>S</td>\n",
       "    </tr>\n",
       "    <tr>\n",
       "      <th>2</th>\n",
       "      <td>1</td>\n",
       "      <td>1</td>\n",
       "      <td>Cumings, Mrs. John Bradley (Florence Briggs Th...</td>\n",
       "      <td>female</td>\n",
       "      <td>38.0</td>\n",
       "      <td>1</td>\n",
       "      <td>0</td>\n",
       "      <td>PC 17599</td>\n",
       "      <td>71.2833</td>\n",
       "      <td>C85</td>\n",
       "      <td>C</td>\n",
       "    </tr>\n",
       "    <tr>\n",
       "      <th>3</th>\n",
       "      <td>1</td>\n",
       "      <td>3</td>\n",
       "      <td>Heikkinen, Miss. Laina</td>\n",
       "      <td>female</td>\n",
       "      <td>26.0</td>\n",
       "      <td>0</td>\n",
       "      <td>0</td>\n",
       "      <td>STON/O2. 3101282</td>\n",
       "      <td>7.9250</td>\n",
       "      <td>NaN</td>\n",
       "      <td>S</td>\n",
       "    </tr>\n",
       "    <tr>\n",
       "      <th>4</th>\n",
       "      <td>1</td>\n",
       "      <td>1</td>\n",
       "      <td>Futrelle, Mrs. Jacques Heath (Lily May Peel)</td>\n",
       "      <td>female</td>\n",
       "      <td>35.0</td>\n",
       "      <td>1</td>\n",
       "      <td>0</td>\n",
       "      <td>113803</td>\n",
       "      <td>53.1000</td>\n",
       "      <td>C123</td>\n",
       "      <td>S</td>\n",
       "    </tr>\n",
       "    <tr>\n",
       "      <th>5</th>\n",
       "      <td>0</td>\n",
       "      <td>3</td>\n",
       "      <td>Allen, Mr. William Henry</td>\n",
       "      <td>male</td>\n",
       "      <td>35.0</td>\n",
       "      <td>0</td>\n",
       "      <td>0</td>\n",
       "      <td>373450</td>\n",
       "      <td>8.0500</td>\n",
       "      <td>NaN</td>\n",
       "      <td>S</td>\n",
       "    </tr>\n",
       "  </tbody>\n",
       "</table>\n",
       "</div>"
      ],
      "text/plain": [
       "             Survived  Pclass  \\\n",
       "PassengerId                     \n",
       "1                   0       3   \n",
       "2                   1       1   \n",
       "3                   1       3   \n",
       "4                   1       1   \n",
       "5                   0       3   \n",
       "\n",
       "                                                          Name     Sex   Age  \\\n",
       "PassengerId                                                                    \n",
       "1                                      Braund, Mr. Owen Harris    male  22.0   \n",
       "2            Cumings, Mrs. John Bradley (Florence Briggs Th...  female  38.0   \n",
       "3                                       Heikkinen, Miss. Laina  female  26.0   \n",
       "4                 Futrelle, Mrs. Jacques Heath (Lily May Peel)  female  35.0   \n",
       "5                                     Allen, Mr. William Henry    male  35.0   \n",
       "\n",
       "             SibSp  Parch            Ticket     Fare Cabin Embarked  \n",
       "PassengerId                                                          \n",
       "1                1      0         A/5 21171   7.2500   NaN        S  \n",
       "2                1      0          PC 17599  71.2833   C85        C  \n",
       "3                0      0  STON/O2. 3101282   7.9250   NaN        S  \n",
       "4                1      0            113803  53.1000  C123        S  \n",
       "5                0      0            373450   8.0500   NaN        S  "
      ]
     },
     "execution_count": 293,
     "metadata": {},
     "output_type": "execute_result"
    }
   ],
   "source": [
    "data.head() # take a look"
   ]
  },
  {
   "cell_type": "markdown",
   "metadata": {},
   "source": [
    "# Load Test data"
   ]
  },
  {
   "cell_type": "code",
   "execution_count": 294,
   "metadata": {},
   "outputs": [],
   "source": [
    "data_t = pd.read_csv('test.csv',index_col=0) # do no add index, use default index"
   ]
  },
  {
   "cell_type": "code",
   "execution_count": 295,
   "metadata": {},
   "outputs": [
    {
     "data": {
      "text/html": [
       "<div>\n",
       "<style scoped>\n",
       "    .dataframe tbody tr th:only-of-type {\n",
       "        vertical-align: middle;\n",
       "    }\n",
       "\n",
       "    .dataframe tbody tr th {\n",
       "        vertical-align: top;\n",
       "    }\n",
       "\n",
       "    .dataframe thead th {\n",
       "        text-align: right;\n",
       "    }\n",
       "</style>\n",
       "<table border=\"1\" class=\"dataframe\">\n",
       "  <thead>\n",
       "    <tr style=\"text-align: right;\">\n",
       "      <th></th>\n",
       "      <th>Pclass</th>\n",
       "      <th>Name</th>\n",
       "      <th>Sex</th>\n",
       "      <th>Age</th>\n",
       "      <th>SibSp</th>\n",
       "      <th>Parch</th>\n",
       "      <th>Ticket</th>\n",
       "      <th>Fare</th>\n",
       "      <th>Cabin</th>\n",
       "      <th>Embarked</th>\n",
       "    </tr>\n",
       "    <tr>\n",
       "      <th>PassengerId</th>\n",
       "      <th></th>\n",
       "      <th></th>\n",
       "      <th></th>\n",
       "      <th></th>\n",
       "      <th></th>\n",
       "      <th></th>\n",
       "      <th></th>\n",
       "      <th></th>\n",
       "      <th></th>\n",
       "      <th></th>\n",
       "    </tr>\n",
       "  </thead>\n",
       "  <tbody>\n",
       "    <tr>\n",
       "      <th>892</th>\n",
       "      <td>3</td>\n",
       "      <td>Kelly, Mr. James</td>\n",
       "      <td>male</td>\n",
       "      <td>34.5</td>\n",
       "      <td>0</td>\n",
       "      <td>0</td>\n",
       "      <td>330911</td>\n",
       "      <td>7.8292</td>\n",
       "      <td>NaN</td>\n",
       "      <td>Q</td>\n",
       "    </tr>\n",
       "    <tr>\n",
       "      <th>893</th>\n",
       "      <td>3</td>\n",
       "      <td>Wilkes, Mrs. James (Ellen Needs)</td>\n",
       "      <td>female</td>\n",
       "      <td>47.0</td>\n",
       "      <td>1</td>\n",
       "      <td>0</td>\n",
       "      <td>363272</td>\n",
       "      <td>7.0000</td>\n",
       "      <td>NaN</td>\n",
       "      <td>S</td>\n",
       "    </tr>\n",
       "    <tr>\n",
       "      <th>894</th>\n",
       "      <td>2</td>\n",
       "      <td>Myles, Mr. Thomas Francis</td>\n",
       "      <td>male</td>\n",
       "      <td>62.0</td>\n",
       "      <td>0</td>\n",
       "      <td>0</td>\n",
       "      <td>240276</td>\n",
       "      <td>9.6875</td>\n",
       "      <td>NaN</td>\n",
       "      <td>Q</td>\n",
       "    </tr>\n",
       "    <tr>\n",
       "      <th>895</th>\n",
       "      <td>3</td>\n",
       "      <td>Wirz, Mr. Albert</td>\n",
       "      <td>male</td>\n",
       "      <td>27.0</td>\n",
       "      <td>0</td>\n",
       "      <td>0</td>\n",
       "      <td>315154</td>\n",
       "      <td>8.6625</td>\n",
       "      <td>NaN</td>\n",
       "      <td>S</td>\n",
       "    </tr>\n",
       "    <tr>\n",
       "      <th>896</th>\n",
       "      <td>3</td>\n",
       "      <td>Hirvonen, Mrs. Alexander (Helga E Lindqvist)</td>\n",
       "      <td>female</td>\n",
       "      <td>22.0</td>\n",
       "      <td>1</td>\n",
       "      <td>1</td>\n",
       "      <td>3101298</td>\n",
       "      <td>12.2875</td>\n",
       "      <td>NaN</td>\n",
       "      <td>S</td>\n",
       "    </tr>\n",
       "  </tbody>\n",
       "</table>\n",
       "</div>"
      ],
      "text/plain": [
       "             Pclass                                          Name     Sex  \\\n",
       "PassengerId                                                                 \n",
       "892               3                              Kelly, Mr. James    male   \n",
       "893               3              Wilkes, Mrs. James (Ellen Needs)  female   \n",
       "894               2                     Myles, Mr. Thomas Francis    male   \n",
       "895               3                              Wirz, Mr. Albert    male   \n",
       "896               3  Hirvonen, Mrs. Alexander (Helga E Lindqvist)  female   \n",
       "\n",
       "              Age  SibSp  Parch   Ticket     Fare Cabin Embarked  \n",
       "PassengerId                                                       \n",
       "892          34.5      0      0   330911   7.8292   NaN        Q  \n",
       "893          47.0      1      0   363272   7.0000   NaN        S  \n",
       "894          62.0      0      0   240276   9.6875   NaN        Q  \n",
       "895          27.0      0      0   315154   8.6625   NaN        S  \n",
       "896          22.0      1      1  3101298  12.2875   NaN        S  "
      ]
     },
     "execution_count": 295,
     "metadata": {},
     "output_type": "execute_result"
    }
   ],
   "source": [
    "data_t.head()"
   ]
  },
  {
   "cell_type": "code",
   "execution_count": 299,
   "metadata": {},
   "outputs": [
    {
     "data": {
      "text/plain": [
       "Index(['Pclass', 'Name', 'Sex', 'Age', 'SibSp', 'Parch', 'Ticket', 'Fare',\n",
       "       'Cabin', 'Embarked'],\n",
       "      dtype='object')"
      ]
     },
     "execution_count": 299,
     "metadata": {},
     "output_type": "execute_result"
    }
   ],
   "source": [
    "data_t.columns"
   ]
  },
  {
   "cell_type": "code",
   "execution_count": 296,
   "metadata": {},
   "outputs": [
    {
     "name": "stderr",
     "output_type": "stream",
     "text": [
      "/miniconda3/lib/python3.7/site-packages/pandas/core/frame.py:6692: FutureWarning: Sorting because non-concatenation axis is not aligned. A future version\n",
      "of pandas will change to not sort by default.\n",
      "\n",
      "To accept the future behavior, pass 'sort=False'.\n",
      "\n",
      "To retain the current behavior and silence the warning, pass 'sort=True'.\n",
      "\n",
      "  sort=sort)\n"
     ]
    }
   ],
   "source": [
    "# Combine training and test data\n",
    "datam = data.append(data_t, ignore_index=True)"
   ]
  },
  {
   "cell_type": "code",
   "execution_count": 297,
   "metadata": {},
   "outputs": [
    {
     "data": {
      "text/html": [
       "<div>\n",
       "<style scoped>\n",
       "    .dataframe tbody tr th:only-of-type {\n",
       "        vertical-align: middle;\n",
       "    }\n",
       "\n",
       "    .dataframe tbody tr th {\n",
       "        vertical-align: top;\n",
       "    }\n",
       "\n",
       "    .dataframe thead th {\n",
       "        text-align: right;\n",
       "    }\n",
       "</style>\n",
       "<table border=\"1\" class=\"dataframe\">\n",
       "  <thead>\n",
       "    <tr style=\"text-align: right;\">\n",
       "      <th></th>\n",
       "      <th>Age</th>\n",
       "      <th>Cabin</th>\n",
       "      <th>Embarked</th>\n",
       "      <th>Fare</th>\n",
       "      <th>Name</th>\n",
       "      <th>Parch</th>\n",
       "      <th>Pclass</th>\n",
       "      <th>Sex</th>\n",
       "      <th>SibSp</th>\n",
       "      <th>Survived</th>\n",
       "      <th>Ticket</th>\n",
       "    </tr>\n",
       "  </thead>\n",
       "  <tbody>\n",
       "    <tr>\n",
       "      <th>0</th>\n",
       "      <td>22.0</td>\n",
       "      <td>NaN</td>\n",
       "      <td>S</td>\n",
       "      <td>7.2500</td>\n",
       "      <td>Braund, Mr. Owen Harris</td>\n",
       "      <td>0</td>\n",
       "      <td>3</td>\n",
       "      <td>male</td>\n",
       "      <td>1</td>\n",
       "      <td>0.0</td>\n",
       "      <td>A/5 21171</td>\n",
       "    </tr>\n",
       "    <tr>\n",
       "      <th>1</th>\n",
       "      <td>38.0</td>\n",
       "      <td>C85</td>\n",
       "      <td>C</td>\n",
       "      <td>71.2833</td>\n",
       "      <td>Cumings, Mrs. John Bradley (Florence Briggs Th...</td>\n",
       "      <td>0</td>\n",
       "      <td>1</td>\n",
       "      <td>female</td>\n",
       "      <td>1</td>\n",
       "      <td>1.0</td>\n",
       "      <td>PC 17599</td>\n",
       "    </tr>\n",
       "    <tr>\n",
       "      <th>2</th>\n",
       "      <td>26.0</td>\n",
       "      <td>NaN</td>\n",
       "      <td>S</td>\n",
       "      <td>7.9250</td>\n",
       "      <td>Heikkinen, Miss. Laina</td>\n",
       "      <td>0</td>\n",
       "      <td>3</td>\n",
       "      <td>female</td>\n",
       "      <td>0</td>\n",
       "      <td>1.0</td>\n",
       "      <td>STON/O2. 3101282</td>\n",
       "    </tr>\n",
       "    <tr>\n",
       "      <th>3</th>\n",
       "      <td>35.0</td>\n",
       "      <td>C123</td>\n",
       "      <td>S</td>\n",
       "      <td>53.1000</td>\n",
       "      <td>Futrelle, Mrs. Jacques Heath (Lily May Peel)</td>\n",
       "      <td>0</td>\n",
       "      <td>1</td>\n",
       "      <td>female</td>\n",
       "      <td>1</td>\n",
       "      <td>1.0</td>\n",
       "      <td>113803</td>\n",
       "    </tr>\n",
       "    <tr>\n",
       "      <th>4</th>\n",
       "      <td>35.0</td>\n",
       "      <td>NaN</td>\n",
       "      <td>S</td>\n",
       "      <td>8.0500</td>\n",
       "      <td>Allen, Mr. William Henry</td>\n",
       "      <td>0</td>\n",
       "      <td>3</td>\n",
       "      <td>male</td>\n",
       "      <td>0</td>\n",
       "      <td>0.0</td>\n",
       "      <td>373450</td>\n",
       "    </tr>\n",
       "  </tbody>\n",
       "</table>\n",
       "</div>"
      ],
      "text/plain": [
       "    Age Cabin Embarked     Fare  \\\n",
       "0  22.0   NaN        S   7.2500   \n",
       "1  38.0   C85        C  71.2833   \n",
       "2  26.0   NaN        S   7.9250   \n",
       "3  35.0  C123        S  53.1000   \n",
       "4  35.0   NaN        S   8.0500   \n",
       "\n",
       "                                                Name  Parch  Pclass     Sex  \\\n",
       "0                            Braund, Mr. Owen Harris      0       3    male   \n",
       "1  Cumings, Mrs. John Bradley (Florence Briggs Th...      0       1  female   \n",
       "2                             Heikkinen, Miss. Laina      0       3  female   \n",
       "3       Futrelle, Mrs. Jacques Heath (Lily May Peel)      0       1  female   \n",
       "4                           Allen, Mr. William Henry      0       3    male   \n",
       "\n",
       "   SibSp  Survived            Ticket  \n",
       "0      1       0.0         A/5 21171  \n",
       "1      1       1.0          PC 17599  \n",
       "2      0       1.0  STON/O2. 3101282  \n",
       "3      1       1.0            113803  \n",
       "4      0       0.0            373450  "
      ]
     },
     "execution_count": 297,
     "metadata": {},
     "output_type": "execute_result"
    }
   ],
   "source": [
    "datam.head()"
   ]
  },
  {
   "cell_type": "markdown",
   "metadata": {},
   "source": [
    "# Explore some data classes"
   ]
  },
  {
   "cell_type": "code",
   "execution_count": 298,
   "metadata": {},
   "outputs": [
    {
     "name": "stdout",
     "output_type": "stream",
     "text": [
      "<class 'pandas.core.frame.DataFrame'>\n",
      "RangeIndex: 1309 entries, 0 to 1308\n",
      "Data columns (total 11 columns):\n",
      "Age         1046 non-null float64\n",
      "Cabin       295 non-null object\n",
      "Embarked    1307 non-null object\n",
      "Fare        1308 non-null float64\n",
      "Name        1309 non-null object\n",
      "Parch       1309 non-null int64\n",
      "Pclass      1309 non-null int64\n",
      "Sex         1309 non-null object\n",
      "SibSp       1309 non-null int64\n",
      "Survived    891 non-null float64\n",
      "Ticket      1309 non-null object\n",
      "dtypes: float64(3), int64(3), object(5)\n",
      "memory usage: 112.6+ KB\n"
     ]
    }
   ],
   "source": [
    "datam.info()"
   ]
  },
  {
   "cell_type": "markdown",
   "metadata": {},
   "source": [
    "## The categories with missing values are: \n",
    "#### *<font color=blue>Age, Cabin(cabin number), Embarked(port where passenger embark)</font>*\n",
    "#### We can explore these categories later to address how to fill in the missing values"
   ]
  },
  {
   "cell_type": "markdown",
   "metadata": {},
   "source": [
    "### Get some summary of each column, know the values and types of each column\n",
    "### Take out target column *<font color=blue>(Survived)* , check the proportion of survival"
   ]
  },
  {
   "cell_type": "code",
   "execution_count": 5,
   "metadata": {},
   "outputs": [],
   "source": [
    "target = data['Survived']"
   ]
  },
  {
   "cell_type": "code",
   "execution_count": 550,
   "metadata": {},
   "outputs": [
    {
     "name": "stdout",
     "output_type": "stream",
     "text": [
      "count    891.000000\n",
      "mean       0.383838\n",
      "std        0.486592\n",
      "min        0.000000\n",
      "25%        0.000000\n",
      "50%        0.000000\n",
      "75%        1.000000\n",
      "max        1.000000\n",
      "Name: Survived, dtype: float64\n",
      "survivors : 342  people, deceased : 549  people\n",
      "0    61.616162\n",
      "1    38.383838\n",
      "Name: Survived, dtype: float64 %\n"
     ]
    }
   ],
   "source": [
    "print(target.describe())\n",
    "print(\"survivors :\",target.value_counts()[1],\" people, deceased :\",target.value_counts()[0],\" people\")\n",
    "print(target.value_counts()/len(data)*100,\"%\")"
   ]
  },
  {
   "cell_type": "markdown",
   "metadata": {},
   "source": [
    "### Survival is 38%, 342 out of total 891 passengers"
   ]
  },
  {
   "cell_type": "code",
   "execution_count": 228,
   "metadata": {},
   "outputs": [
    {
     "name": "stdout",
     "output_type": "stream",
     "text": [
      "count    891.000000\n",
      "mean       2.308642\n",
      "std        0.836071\n",
      "min        1.000000\n",
      "25%        2.000000\n",
      "50%        3.000000\n",
      "75%        3.000000\n",
      "max        3.000000\n",
      "Name: Pclass, dtype: float64\n",
      "3    491\n",
      "1    216\n",
      "2    184\n",
      "Name: Pclass, dtype: int64\n",
      "count                  891\n",
      "unique                 891\n",
      "top       Ali, Mr. William\n",
      "freq                     1\n",
      "Name: Name, dtype: object\n",
      "Ali, Mr. William                                     1\n",
      "Ostby, Mr. Engelhart Cornelius                       1\n",
      "Petroff, Mr. Pastcho (\"Pentcho\")                     1\n",
      "Lovell, Mr. John Hall (\"Henry\")                      1\n",
      "Giglio, Mr. Victor                                   1\n",
      "Ohman, Miss. Velin                                   1\n",
      "Hunt, Mr. George Henry                               1\n",
      "de Pelsmaeker, Mr. Alfons                            1\n",
      "Moutal, Mr. Rahamin Haim                             1\n",
      "Goldenberg, Mr. Samuel L                             1\n",
      "Heikkinen, Miss. Laina                               1\n",
      "Dahl, Mr. Karl Edwart                                1\n",
      "Tomlin, Mr. Ernest Portage                           1\n",
      "Nilsson, Miss. Helmina Josefina                      1\n",
      "Caram, Mrs. Joseph (Maria Elias)                     1\n",
      "Bing, Mr. Lee                                        1\n",
      "Moor, Mrs. (Beila)                                   1\n",
      "Taylor, Mrs. Elmer Zebley (Juliet Cummins Wright)    1\n",
      "Widegren, Mr. Carl/Charles Peter                     1\n",
      "Albimona, Mr. Nassef Cassem                          1\n",
      "Staneff, Mr. Ivan                                    1\n",
      "Farthing, Mr. John                                   1\n",
      "Leyson, Mr. Robert William Norman                    1\n",
      "Parrish, Mrs. (Lutie Davis)                          1\n",
      "Knight, Mr. Robert J                                 1\n",
      "Goldschmidt, Mr. George B                            1\n",
      "Jonkoff, Mr. Lalio                                   1\n",
      "Laitinen, Miss. Kristina Sofia                       1\n",
      "Aks, Mrs. Sam (Leah Rosen)                           1\n",
      "Abbott, Mrs. Stanton (Rosa Hunt)                     1\n",
      "                                                    ..\n",
      "Futrelle, Mr. Jacques Heath                          1\n",
      "Garside, Miss. Ethel                                 1\n",
      "Davis, Miss. Mary                                    1\n",
      "Lester, Mr. James                                    1\n",
      "Bishop, Mr. Dickinson H                              1\n",
      "Braund, Mr. Lewis Richard                            1\n",
      "Kenyon, Mrs. Frederick R (Marion)                    1\n",
      "Moss, Mr. Albert Johan                               1\n",
      "Hoyt, Mr. Frederick Maxfield                         1\n",
      "Johnson, Mr. Malkolm Joackim                         1\n",
      "Torber, Mr. Ernst William                            1\n",
      "Morley, Mr. Henry Samuel (\"Mr Henry Marshall\")       1\n",
      "Eitemiller, Mr. George Floyd                         1\n",
      "McCarthy, Mr. Timothy J                              1\n",
      "Nysveen, Mr. Johan Hansen                            1\n",
      "Ridsdale, Miss. Lucy                                 1\n",
      "Meek, Mrs. Thomas (Annie Louise Rowley)              1\n",
      "Gavey, Mr. Lawrence                                  1\n",
      "Baxter, Mr. Quigg Edmond                             1\n",
      "Allison, Miss. Helen Loraine                         1\n",
      "Nakid, Miss. Maria (\"Mary\")                          1\n",
      "Connors, Mr. Patrick                                 1\n",
      "O'Connell, Mr. Patrick D                             1\n",
      "Sjostedt, Mr. Ernst Adolf                            1\n",
      "Ibrahim Shawah, Mr. Yousseff                         1\n",
      "Moran, Mr. Daniel J                                  1\n",
      "Quick, Mrs. Frederick Charles (Jane Richards)        1\n",
      "Mayne, Mlle. Berthe Antonine (\"Mrs de Villiers\")     1\n",
      "Kantor, Mrs. Sinai (Miriam Sternin)                  1\n",
      "Peter, Miss. Anna                                    1\n",
      "Name: Name, Length: 891, dtype: int64\n",
      "count      891\n",
      "unique       2\n",
      "top       male\n",
      "freq       577\n",
      "Name: Sex, dtype: object\n",
      "male      577\n",
      "female    314\n",
      "Name: Sex, dtype: int64\n",
      "count    714.000000\n",
      "mean      29.699118\n",
      "std       14.526497\n",
      "min        0.420000\n",
      "25%       20.125000\n",
      "50%       28.000000\n",
      "75%       38.000000\n",
      "max       80.000000\n",
      "Name: Age, dtype: float64\n",
      "24.00    30\n",
      "22.00    27\n",
      "18.00    26\n",
      "19.00    25\n",
      "30.00    25\n",
      "28.00    25\n",
      "21.00    24\n",
      "25.00    23\n",
      "36.00    22\n",
      "29.00    20\n",
      "32.00    18\n",
      "27.00    18\n",
      "35.00    18\n",
      "26.00    18\n",
      "16.00    17\n",
      "31.00    17\n",
      "20.00    15\n",
      "33.00    15\n",
      "23.00    15\n",
      "34.00    15\n",
      "39.00    14\n",
      "17.00    13\n",
      "42.00    13\n",
      "40.00    13\n",
      "45.00    12\n",
      "38.00    11\n",
      "50.00    10\n",
      "2.00     10\n",
      "4.00     10\n",
      "47.00     9\n",
      "         ..\n",
      "71.00     2\n",
      "59.00     2\n",
      "63.00     2\n",
      "0.83      2\n",
      "30.50     2\n",
      "70.00     2\n",
      "57.00     2\n",
      "0.75      2\n",
      "13.00     2\n",
      "10.00     2\n",
      "64.00     2\n",
      "40.50     2\n",
      "32.50     2\n",
      "45.50     2\n",
      "20.50     1\n",
      "24.50     1\n",
      "0.67      1\n",
      "14.50     1\n",
      "0.92      1\n",
      "74.00     1\n",
      "34.50     1\n",
      "80.00     1\n",
      "12.00     1\n",
      "36.50     1\n",
      "53.00     1\n",
      "55.50     1\n",
      "70.50     1\n",
      "66.00     1\n",
      "23.50     1\n",
      "0.42      1\n",
      "Name: Age, Length: 88, dtype: int64\n",
      "count    891.000000\n",
      "mean       0.523008\n",
      "std        1.102743\n",
      "min        0.000000\n",
      "25%        0.000000\n",
      "50%        0.000000\n",
      "75%        1.000000\n",
      "max        8.000000\n",
      "Name: SibSp, dtype: float64\n",
      "0    608\n",
      "1    209\n",
      "2     28\n",
      "4     18\n",
      "3     16\n",
      "8      7\n",
      "5      5\n",
      "Name: SibSp, dtype: int64\n",
      "count    891.000000\n",
      "mean       0.381594\n",
      "std        0.806057\n",
      "min        0.000000\n",
      "25%        0.000000\n",
      "50%        0.000000\n",
      "75%        0.000000\n",
      "max        6.000000\n",
      "Name: Parch, dtype: float64\n",
      "0    678\n",
      "1    118\n",
      "2     80\n",
      "5      5\n",
      "3      5\n",
      "4      4\n",
      "6      1\n",
      "Name: Parch, dtype: int64\n",
      "count      891\n",
      "unique     681\n",
      "top       1601\n",
      "freq         7\n",
      "Name: Ticket, dtype: object\n",
      "1601                  7\n",
      "CA. 2343              7\n",
      "347082                7\n",
      "3101295               6\n",
      "CA 2144               6\n",
      "347088                6\n",
      "S.O.C. 14879          5\n",
      "382652                5\n",
      "W./C. 6608            4\n",
      "113781                4\n",
      "PC 17757              4\n",
      "17421                 4\n",
      "349909                4\n",
      "4133                  4\n",
      "347077                4\n",
      "LINE                  4\n",
      "2666                  4\n",
      "19950                 4\n",
      "113760                4\n",
      "239853                3\n",
      "110152                3\n",
      "371110                3\n",
      "PC 17582              3\n",
      "248727                3\n",
      "29106                 3\n",
      "345773                3\n",
      "SC/Paris 2123         3\n",
      "F.C.C. 13529          3\n",
      "13502                 3\n",
      "35273                 3\n",
      "                     ..\n",
      "C.A. 29566            1\n",
      "3460                  1\n",
      "349248                1\n",
      "F.C. 12750            1\n",
      "330958                1\n",
      "218629                1\n",
      "F.C.C. 13528          1\n",
      "363592                1\n",
      "233639                1\n",
      "349239                1\n",
      "28213                 1\n",
      "4135                  1\n",
      "C 7077                1\n",
      "CA. 2314              1\n",
      "113503                1\n",
      "349222                1\n",
      "231945                1\n",
      "SC/PARIS 2133         1\n",
      "324669                1\n",
      "112277                1\n",
      "28134                 1\n",
      "113787                1\n",
      "SOTON/O.Q. 3101312    1\n",
      "349243                1\n",
      "SC/PARIS 2149         1\n",
      "350060                1\n",
      "PC 17318              1\n",
      "350026                1\n",
      "SOTON/OQ 3101316      1\n",
      "237565                1\n",
      "Name: Ticket, Length: 681, dtype: int64\n",
      "count    891.000000\n",
      "mean      32.204208\n",
      "std       49.693429\n",
      "min        0.000000\n",
      "25%        7.910400\n",
      "50%       14.454200\n",
      "75%       31.000000\n",
      "max      512.329200\n",
      "Name: Fare, dtype: float64\n",
      "8.0500      43\n",
      "13.0000     42\n",
      "7.8958      38\n",
      "7.7500      34\n",
      "26.0000     31\n",
      "10.5000     24\n",
      "7.9250      18\n",
      "7.7750      16\n",
      "26.5500     15\n",
      "0.0000      15\n",
      "7.2292      15\n",
      "7.8542      13\n",
      "8.6625      13\n",
      "7.2500      13\n",
      "7.2250      12\n",
      "16.1000      9\n",
      "9.5000       9\n",
      "24.1500      8\n",
      "15.5000      8\n",
      "56.4958      7\n",
      "52.0000      7\n",
      "14.5000      7\n",
      "14.4542      7\n",
      "69.5500      7\n",
      "7.0500       7\n",
      "31.2750      7\n",
      "46.9000      6\n",
      "30.0000      6\n",
      "7.7958       6\n",
      "39.6875      6\n",
      "            ..\n",
      "7.1417       1\n",
      "42.4000      1\n",
      "211.5000     1\n",
      "12.2750      1\n",
      "61.1750      1\n",
      "8.4333       1\n",
      "51.4792      1\n",
      "7.8875       1\n",
      "8.6833       1\n",
      "7.5208       1\n",
      "34.6542      1\n",
      "28.7125      1\n",
      "25.5875      1\n",
      "7.7292       1\n",
      "12.2875      1\n",
      "8.6542       1\n",
      "8.7125       1\n",
      "61.3792      1\n",
      "6.9500       1\n",
      "9.8417       1\n",
      "8.3000       1\n",
      "13.7917      1\n",
      "9.4750       1\n",
      "13.4167      1\n",
      "26.3875      1\n",
      "8.4583       1\n",
      "9.8375       1\n",
      "8.3625       1\n",
      "14.1083      1\n",
      "17.4000      1\n",
      "Name: Fare, Length: 248, dtype: int64\n",
      "count     204\n",
      "unique    147\n",
      "top        G6\n",
      "freq        4\n",
      "Name: Cabin, dtype: object\n",
      "G6                 4\n",
      "C23 C25 C27        4\n",
      "B96 B98            4\n",
      "E101               3\n",
      "F33                3\n",
      "D                  3\n",
      "C22 C26            3\n",
      "F2                 3\n",
      "B28                2\n",
      "C125               2\n",
      "C78                2\n",
      "C52                2\n",
      "F4                 2\n",
      "C83                2\n",
      "C124               2\n",
      "D17                2\n",
      "C123               2\n",
      "B18                2\n",
      "D26                2\n",
      "B20                2\n",
      "B57 B59 B63 B66    2\n",
      "C68                2\n",
      "D35                2\n",
      "B51 B53 B55        2\n",
      "E44                2\n",
      "B77                2\n",
      "C126               2\n",
      "E8                 2\n",
      "E24                2\n",
      "E33                2\n",
      "                  ..\n",
      "D30                1\n",
      "C95                1\n",
      "E77                1\n",
      "D7                 1\n",
      "F E69              1\n",
      "C62 C64            1\n",
      "E17                1\n",
      "E31                1\n",
      "D10 D12            1\n",
      "E40                1\n",
      "C106               1\n",
      "C90                1\n",
      "C91                1\n",
      "B39                1\n",
      "B30                1\n",
      "E12                1\n",
      "C32                1\n",
      "A7                 1\n",
      "E36                1\n",
      "B94                1\n",
      "C30                1\n",
      "C49                1\n",
      "C111               1\n",
      "B50                1\n",
      "C86                1\n",
      "D45                1\n",
      "B102               1\n",
      "T                  1\n",
      "A19                1\n",
      "C118               1\n",
      "Name: Cabin, Length: 147, dtype: int64\n",
      "count     889\n",
      "unique      3\n",
      "top         S\n",
      "freq      644\n",
      "Name: Embarked, dtype: object\n",
      "S    644\n",
      "C    168\n",
      "Q     77\n",
      "Name: Embarked, dtype: int64\n"
     ]
    }
   ],
   "source": [
    "data.pop('Survived')\n",
    "for item in data.columns:    # data overall display\n",
    "    print(data[item].describe())\n",
    "    print(data[item].value_counts())"
   ]
  },
  {
   "cell_type": "markdown",
   "metadata": {},
   "source": [
    "# Garphical visualization of selected columns to explore the features"
   ]
  },
  {
   "cell_type": "code",
   "execution_count": 300,
   "metadata": {},
   "outputs": [
    {
     "data": {
      "image/png": "[encoded data removed]",
      "text/plain": [
       "<Figure size 432x288 with 1 Axes>"
      ]
     },
     "metadata": {},
     "output_type": "display_data"
    }
   ],
   "source": [
    "# Pclass\n",
    "perc=datam['Pclass'].value_counts()/len(data)*100\n",
    "label=datam['Pclass'].value_counts().index.values\n",
    "#print(label)\n",
    "fig1, ax1 = plt.subplots()\n",
    "ax1.pie(perc, labels=label, autopct='%1.1f%%',shadow=True, startangle=90)\n",
    "ax1.axis('equal')  # Equal aspect ratio ensures that pie is drawn as a circle.\n",
    "ax1.set_title('Pclass percentage out of All Passenger')\n",
    "\n",
    "plt.show()"
   ]
  },
  {
   "cell_type": "code",
   "execution_count": 9,
   "metadata": {},
   "outputs": [
    {
     "data": {
      "text/plain": [
       "Text(0.5, 1.0, 'Pclass survival percentage %')"
      ]
     },
     "execution_count": 9,
     "metadata": {},
     "output_type": "execute_result"
    },
    {
     "data": {
      "image/png": "[encoded data removed]",
      "text/plain": [
       "<Figure size 432x288 with 1 Axes>"
      ]
     },
     "metadata": {
      "needs_background": "light"
     },
     "output_type": "display_data"
    }
   ],
   "source": [
    "# check the Pclass out of survivors\n",
    "# it is more meaningful to check the percentage of survival (survival rate) from each class\n",
    "sub_ind=target==1\n",
    "sub_df=data[sub_ind]\n",
    "# replot to bar graph\n",
    "totl = data['Pclass'].value_counts()\n",
    "part=sub_df['Pclass'].value_counts()\n",
    "perc=[None]*3\n",
    "for i in range(1,4):\n",
    "    perc[i-1]=part[i]/totl[i]*100\n",
    "\n",
    "label=sub_df['Pclass'].value_counts().index.values\n",
    "fig1, ax1 = plt.subplots()\n",
    "ax1.bar([3,2,1],perc)\n",
    "plt.xticks([3,2,1],[1,2,3])\n",
    "ax1.set_title('Pclass survival percentage %')"
   ]
  },
  {
   "cell_type": "markdown",
   "metadata": {},
   "source": [
    "#### apparently passengers who boarded cabin class with higher rank are more likely to survive"
   ]
  },
  {
   "cell_type": "code",
   "execution_count": 301,
   "metadata": {},
   "outputs": [
    {
     "name": "stdout",
     "output_type": "stream",
     "text": [
      "['male' 'female']\n"
     ]
    },
    {
     "data": {
      "image/png": "[encoded data removed]",
      "text/plain": [
       "<Figure size 432x288 with 1 Axes>"
      ]
     },
     "metadata": {},
     "output_type": "display_data"
    }
   ],
   "source": [
    "# Sex\n",
    "perc=datam['Sex'].value_counts(sort=True)/len(data)*100\n",
    "label=datam['Sex'].value_counts(sort=True).index.values\n",
    "#print(label)\n",
    "print(perc.index.values)\n",
    "fig1, ax1 = plt.subplots()\n",
    "ax1.pie(perc, labels=label, autopct='%1.1f%%',shadow=True, startangle=90)\n",
    "ax1.axis('equal')  # Equal aspect ratio ensures that pie is drawn as a circle.\n",
    "ax1.set_title('Sex proportions out of All Passenger')\n",
    "\n",
    "plt.show()"
   ]
  },
  {
   "cell_type": "code",
   "execution_count": 30,
   "metadata": {},
   "outputs": [
    {
     "name": "stdout",
     "output_type": "stream",
     "text": [
      "male survival precentage:  18.890814558058924 %\n",
      "female survival precentage:  74.20382165605095 %\n"
     ]
    },
    {
     "data": {
      "text/plain": [
       "Text(0.5, 1.0, 'Gender survival percentage')"
      ]
     },
     "execution_count": 30,
     "metadata": {},
     "output_type": "execute_result"
    },
    {
     "data": {
      "image/png": "[encoded data removed]",
      "text/plain": [
       "<Figure size 432x288 with 1 Axes>"
      ]
     },
     "metadata": {
      "needs_background": "light"
     },
     "output_type": "display_data"
    }
   ],
   "source": [
    "# check the Sex out of survivors\n",
    "# it is more meaningful to check the percentage of survival (survival rate) from each gender\n",
    "# replot to bar graph\n",
    "totl = data['Sex'].value_counts(sort=True)\n",
    "part= sub_df['Sex'].value_counts(sort=True)\n",
    "#print(part.index)\n",
    "#print(part[0])\n",
    "#print(totl.index.values,totl[0],totl[1])\n",
    "#print(part.index.values,part[0],part[1])\n",
    "perc=[None]*2\n",
    "i=0\n",
    "perc[0]=part[1]/totl[0]*100\n",
    "perc[1]=part[0]/totl[1]*100\n",
    "\n",
    "print(\"male survival precentage: \",perc[0],\"%\")\n",
    "print(\"female survival precentage: \",perc[1],\"%\")\n",
    "fig1, ax1 = plt.subplots()\n",
    "ax1.bar([1,2],perc)\n",
    "plt.xticks([1,2],['male','female'])\n",
    "ax1.set_title('Gender survival percentage')"
   ]
  },
  {
   "cell_type": "markdown",
   "metadata": {},
   "source": [
    "### It is apparent that the female has much higher survival rate than male. About 4 times more likely to survive."
   ]
  },
  {
   "cell_type": "code",
   "execution_count": 302,
   "metadata": {},
   "outputs": [
    {
     "name": "stdout",
     "output_type": "stream",
     "text": [
      "count    1046.000000\n",
      "mean       29.881138\n",
      "std        14.413493\n",
      "min         0.170000\n",
      "25%        21.000000\n",
      "50%        28.000000\n",
      "75%        39.000000\n",
      "max        80.000000\n",
      "Name: Age, dtype: float64\n"
     ]
    }
   ],
   "source": [
    "#Age -- This column contains null values\n",
    "age_valid = datam[datam.Age.notnull()]\n",
    "print(age_valid.Age.describe())"
   ]
  },
  {
   "cell_type": "code",
   "execution_count": 303,
   "metadata": {},
   "outputs": [
    {
     "data": {
      "text/plain": [
       "Text(0.5, 1.0, 'Age distribution')"
      ]
     },
     "execution_count": 303,
     "metadata": {},
     "output_type": "execute_result"
    },
    {
     "data": {
      "image/png": "[encoded data removed]",
      "text/plain": [
       "<Figure size 1440x648 with 1 Axes>"
      ]
     },
     "metadata": {
      "needs_background": "light"
     },
     "output_type": "display_data"
    }
   ],
   "source": [
    "plt.figure(figsize=(20,9))\n",
    "ax=sns.distplot(age_valid.Age,bins=17,color='#0504aa',norm_hist=False)\n",
    "ax.set_title(\"Age distribution\")"
   ]
  },
  {
   "cell_type": "markdown",
   "metadata": {},
   "source": [
    "#### Children age 0-15 seem to have some weird distribution(lacking number), it may indicate that the age reported in this range is not fully correct. Also, there are 0.XX age for babies(not understanding how their ages were reported)"
   ]
  },
  {
   "cell_type": "code",
   "execution_count": 304,
   "metadata": {},
   "outputs": [
    {
     "name": "stdout",
     "output_type": "stream",
     "text": [
      "0.83\n",
      "0.92\n",
      "0.75\n",
      "0.75\n",
      "0.67\n",
      "0.42\n",
      "0.83\n",
      "0.33\n",
      "0.92\n",
      "0.75\n",
      "0.83\n",
      "0.17\n"
     ]
    }
   ],
   "source": [
    "for age in age_valid.Age.values: # show babies ages\n",
    "    if age<1:\n",
    "        print(age) "
   ]
  },
  {
   "cell_type": "markdown",
   "metadata": {},
   "source": [
    "## check on the missing ages: \n",
    "#### (1)check the survival rate on the missing ages row and valid ages row"
   ]
  },
  {
   "cell_type": "code",
   "execution_count": 312,
   "metadata": {},
   "outputs": [
    {
     "name": "stdout",
     "output_type": "stream",
     "text": [
      "count      549\n",
      "unique       2\n",
      "top       True\n",
      "freq       424\n",
      "Name: Age, dtype: object\n",
      "Total number deceased: 549\n",
      "Percentage missing age record: 77.23132969034609 %\n"
     ]
    }
   ],
   "source": [
    "sub_ind0=target==0  #first check on deceased population\n",
    "sub_df=data[sub_ind0]\n",
    "age_valid=sub_df.Age.notnull()\n",
    "print(age_valid.describe())\n",
    "print(\"Total number deceased:\",len(sub_df))\n",
    "print(\"Percentage missing age record:\",424/len(sub_df)*100,\"%\")"
   ]
  },
  {
   "cell_type": "code",
   "execution_count": 176,
   "metadata": {},
   "outputs": [
    {
     "name": "stdout",
     "output_type": "stream",
     "text": [
      "count      342\n",
      "unique       2\n",
      "top       True\n",
      "freq       290\n",
      "Name: Age, dtype: object\n",
      "Total number deceased: 342\n",
      "Percentage missing age record: 84.7953216374269 %\n"
     ]
    }
   ],
   "source": [
    "sub_df=data[sub_ind]\n",
    "age_valid=sub_df.Age.notnull()\n",
    "print(age_valid.describe())\n",
    "print(\"Total number deceased:\",len(sub_df))\n",
    "print(\"Percentage missing age record:\",290/len(sub_df)*100,\"%\")"
   ]
  },
  {
   "cell_type": "markdown",
   "metadata": {},
   "source": [
    "#### Based on the percentage of age records in deceased and survived, there seems not to be a reason that the missing age record is due to not recording the deceased."
   ]
  },
  {
   "cell_type": "code",
   "execution_count": 305,
   "metadata": {},
   "outputs": [
    {
     "name": "stdout",
     "output_type": "stream",
     "text": [
      "count      323\n",
      "unique       2\n",
      "top       True\n",
      "freq       284\n",
      "Name: Age, dtype: object\n",
      "Total number of 1st class: 323\n",
      "Missing Age in 1st class: 30\n",
      "Percentage missing age record: 9.287925696594428 %\n",
      "count      277\n",
      "unique       2\n",
      "top       True\n",
      "freq       261\n",
      "Name: Age, dtype: object\n",
      "Total number of 2nd class: 277\n",
      "Missing Age in 2nd class: 11\n",
      "Percentage missing age record: 3.9711191335740073 %\n",
      "count      709\n",
      "unique       2\n",
      "top       True\n",
      "freq       501\n",
      "Name: Age, dtype: object\n",
      "Total number of 3rd class: 709\n",
      "Missing Age in 3rd class: 136\n",
      "Percentage missing age record: 19.18194640338505 %\n"
     ]
    }
   ],
   "source": [
    "#Second, check on cabin class. See if there is a relation between cabin class and missing age record\n",
    "sub_ind1=datam.Pclass==1  #first class population\n",
    "sub_df=datam[sub_ind1]\n",
    "age_valid=sub_df.Age.notnull()\n",
    "print(age_valid.describe())\n",
    "print(\"Total number of 1st class:\",len(sub_df))\n",
    "print(\"Missing Age in 1st class:\",216-186)\n",
    "print(\"Percentage missing age record:\",(216-186)/len(sub_df)*100,\"%\")\n",
    "sub_ind2=datam.Pclass==2  #2nd class population\n",
    "sub_df=datam[sub_ind2]\n",
    "age_valid=sub_df.Age.notnull()\n",
    "print(age_valid.describe())\n",
    "print(\"Total number of 2nd class:\",len(sub_df))\n",
    "print(\"Missing Age in 2nd class:\",184-173)\n",
    "print(\"Percentage missing age record:\",(184-173)/len(sub_df)*100,\"%\")\n",
    "sub_ind3=datam.Pclass==3  #3rd class population\n",
    "sub_df=datam[sub_ind3]\n",
    "age_valid=sub_df.Age.notnull()\n",
    "print(age_valid.describe())\n",
    "print(\"Total number of 3rd class:\",len(sub_df))\n",
    "print(\"Missing Age in 3rd class:\",491-355)\n",
    "print(\"Percentage missing age record:\",(491-355)/len(sub_df)*100,\"%\")"
   ]
  },
  {
   "cell_type": "markdown",
   "metadata": {},
   "source": [
    "### Most missing ages record came from 3rd class passengers."
   ]
  },
  {
   "cell_type": "code",
   "execution_count": 307,
   "metadata": {},
   "outputs": [],
   "source": [
    "#plot percentage of the missing ages\n",
    "totl = len(datam)-sum(datam.Age.notnull())\n",
    "mis_1st = len(datam.loc[datam['Pclass']==1])-sum(datam.loc[datam['Pclass']==1].Age.notnull())\n",
    "mis_2nd = len(datam.loc[datam['Pclass']==2])-sum(datam.loc[datam['Pclass']==2].Age.notnull())\n",
    "mis_3rd = len(datam.loc[datam['Pclass']==3])-sum(datam.loc[datam['Pclass']==3].Age.notnull())\n",
    "perc = np.divide([mis_3rd,mis_1st,mis_2nd],totl)*100\n",
    "label=['3rd class','2nd class','1st class']"
   ]
  },
  {
   "cell_type": "code",
   "execution_count": 308,
   "metadata": {},
   "outputs": [
    {
     "data": {
      "image/png": "[encoded data removed]",
      "text/plain": [
       "<Figure size 432x288 with 1 Axes>"
      ]
     },
     "metadata": {},
     "output_type": "display_data"
    }
   ],
   "source": [
    "fig1, ax1 = plt.subplots()\n",
    "ax1.pie(perc, labels=label, autopct='%1.1f%%',shadow=True, startangle=90)\n",
    "ax1.axis('equal')  # Equal aspect ratio ensures that pie is drawn as a circle.\n",
    "ax1.set_title('Missing ages proportions by cabin classes')\n",
    "\n",
    "plt.show()"
   ]
  },
  {
   "cell_type": "markdown",
   "metadata": {},
   "source": [
    "#### Since the missing Age population most lies in the 3rd class cabins, take a look at the 3rd class age distribution"
   ]
  },
  {
   "cell_type": "code",
   "execution_count": 309,
   "metadata": {},
   "outputs": [
    {
     "name": "stdout",
     "output_type": "stream",
     "text": [
      "count    501.000000\n",
      "mean      24.816367\n",
      "std       11.958202\n",
      "min        0.170000\n",
      "25%       18.000000\n",
      "50%       24.000000\n",
      "75%       32.000000\n",
      "max       74.000000\n",
      "Name: Age, dtype: float64\n"
     ]
    }
   ],
   "source": [
    "pc3Age = datam.loc[datam['Pclass']==3].Age\n",
    "print(pc3Age.describe())"
   ]
  },
  {
   "cell_type": "code",
   "execution_count": 310,
   "metadata": {},
   "outputs": [
    {
     "name": "stderr",
     "output_type": "stream",
     "text": [
      "/miniconda3/lib/python3.7/site-packages/numpy/lib/histograms.py:824: RuntimeWarning: invalid value encountered in greater_equal\n",
      "  keep = (tmp_a >= first_edge)\n",
      "/miniconda3/lib/python3.7/site-packages/numpy/lib/histograms.py:825: RuntimeWarning: invalid value encountered in less_equal\n",
      "  keep &= (tmp_a <= last_edge)\n",
      "/miniconda3/lib/python3.7/site-packages/statsmodels/nonparametric/kde.py:448: RuntimeWarning: invalid value encountered in greater\n",
      "  X = X[np.logical_and(X > clip[0], X < clip[1])] # won't work for two columns.\n",
      "/miniconda3/lib/python3.7/site-packages/statsmodels/nonparametric/kde.py:448: RuntimeWarning: invalid value encountered in less\n",
      "  X = X[np.logical_and(X > clip[0], X < clip[1])] # won't work for two columns.\n"
     ]
    },
    {
     "data": {
      "text/plain": [
       "Text(0.5, 1.0, 'Age distribution of 3rd class passengers')"
      ]
     },
     "execution_count": 310,
     "metadata": {},
     "output_type": "execute_result"
    },
    {
     "data": {
      "image/png": "[encoded data removed]",
      "text/plain": [
       "<Figure size 1440x648 with 1 Axes>"
      ]
     },
     "metadata": {
      "needs_background": "light"
     },
     "output_type": "display_data"
    }
   ],
   "source": [
    "plt.figure(figsize=(20,9))\n",
    "ax=sns.distplot(pc3Age,bins=17,color='#0504aa',norm_hist=False)\n",
    "ax.set_title(\"Age distribution of 3rd class passengers\")"
   ]
  },
  {
   "cell_type": "markdown",
   "metadata": {},
   "source": [
    "#### The 3rd class age distribution is also binomial looking, but the number for 20-25yrs old is apparently very high. I would tend to fill in missing age based on *<font color=blue>\"Mode\"*(first guess)"
   ]
  },
  {
   "cell_type": "code",
   "execution_count": 311,
   "metadata": {},
   "outputs": [
    {
     "name": "stdout",
     "output_type": "stream",
     "text": [
      "MODE number of the ages of passengers from 3rd class: 22.0\n"
     ]
    }
   ],
   "source": [
    "from collections import Counter\n",
    "pc3Agef = Counter(pc3Age[pc3Age.notnull()].values)\n",
    "#print(pc3Agef.most_common())   # Returns all unique items and their counts\n",
    "print(\"MODE number of the ages of passengers from 3rd class:\", pc3Agef.most_common(1)[0][0])"
   ]
  },
  {
   "cell_type": "markdown",
   "metadata": {},
   "source": [
    "### check different age ranges and the survival rate"
   ]
  },
  {
   "cell_type": "code",
   "execution_count": 253,
   "metadata": {},
   "outputs": [],
   "source": [
    "bins = np.linspace(0,80,17)\n",
    "div = 5\n",
    "counts=[0]*len(bins)\n",
    "counts_tol = [0]*len(bins)\n",
    "sub_df = data[sub_ind] # survivors\n",
    "for i,item in enumerate(bins):\n",
    "    for rows in sub_df.iterrows():\n",
    "        if (rows[1].Age > item) and (rows[1].Age <= item+5):\n",
    "            counts[i]+=1\n",
    "\n",
    "for i,item in enumerate(bins):\n",
    "    for rows in data.iterrows():\n",
    "        if (rows[1].Age > item) and (rows[1].Age <= item+5):\n",
    "            counts_tol[i]+=1"
   ]
  },
  {
   "cell_type": "code",
   "execution_count": 266,
   "metadata": {},
   "outputs": [
    {
     "data": {
      "image/png": "[encoded data removed]",
      "text/plain": [
       "<Figure size 1440x648 with 1 Axes>"
      ]
     },
     "metadata": {
      "needs_background": "light"
     },
     "output_type": "display_data"
    }
   ],
   "source": [
    "plt.figure(figsize=(20,9))\n",
    "indices = np.arange(len(bins))\n",
    "plt.bar(indices, counts_tol, width=.8, \n",
    "        color='b', label='Total number of passengers in the age range')\n",
    "plt.bar(indices, counts, \n",
    "        width=.8, color='r', alpha=0.5, label='Total number of survivors in the age range')\n",
    "\n",
    "plt.xticks(indices, \n",
    "           bins )\n",
    "plt.xlabel('maximum age in range')\n",
    "plt.legend()\n",
    "plt.show()"
   ]
  },
  {
   "cell_type": "markdown",
   "metadata": {},
   "source": [
    "### plot by percentage"
   ]
  },
  {
   "cell_type": "code",
   "execution_count": 272,
   "metadata": {},
   "outputs": [],
   "source": [
    "perc = [counts[i]/counts_tol[i]*100 for i in range(len(counts)) if counts_tol[i]!=0]+[0]"
   ]
  },
  {
   "cell_type": "code",
   "execution_count": 276,
   "metadata": {},
   "outputs": [
    {
     "data": {
      "image/png": "[encoded data removed]",
      "text/plain": [
       "<Figure size 1440x648 with 1 Axes>"
      ]
     },
     "metadata": {
      "needs_background": "light"
     },
     "output_type": "display_data"
    }
   ],
   "source": [
    "plt.figure(figsize=(20,9))\n",
    "indices = np.arange(len(bins))\n",
    "plt.bar(indices, perc, width=.8, color='b', label='Percentage survival in the age range')\n",
    "plt.xticks(indices, bins)\n",
    "plt.xlabel('maximum age in range')\n",
    "plt.ylabel('%')\n",
    "plt.legend()\n",
    "plt.show()"
   ]
  },
  {
   "cell_type": "markdown",
   "metadata": {},
   "source": [
    "### There seems to be a slight trend of decreasing survival rate when age increases, however, the trend is not so apparent and the elderly population is probably too small to validate that trend. However, *<font color=blue>infant* is definitely protected and therefore has higher survival rate. "
   ]
  },
  {
   "cell_type": "code",
   "execution_count": 368,
   "metadata": {},
   "outputs": [
    {
     "name": "stdout",
     "output_type": "stream",
     "text": [
      "0    891\n",
      "1    319\n",
      "2     42\n",
      "4     22\n",
      "3     20\n",
      "8      9\n",
      "5      6\n",
      "Name: SibSp, dtype: int64\n"
     ]
    }
   ],
   "source": [
    "#SibSp\n",
    "sub_df = datam['SibSp']\n",
    "catSibsp=sub_df.value_counts()\n",
    "print(catSibsp)"
   ]
  },
  {
   "cell_type": "code",
   "execution_count": 337,
   "metadata": {},
   "outputs": [
    {
     "data": {
      "text/plain": [
       "Int64Index([0, 1, 2, 4, 3, 8, 5], dtype='int64')"
      ]
     },
     "execution_count": 337,
     "metadata": {},
     "output_type": "execute_result"
    }
   ],
   "source": [
    "catSibsp.index"
   ]
  },
  {
   "cell_type": "markdown",
   "metadata": {},
   "source": [
    "### Plot survival counts based on sibling numbers"
   ]
  },
  {
   "cell_type": "markdown",
   "metadata": {},
   "source": [
    "### Plot survival rate based on sibling numbers"
   ]
  },
  {
   "cell_type": "code",
   "execution_count": 357,
   "metadata": {},
   "outputs": [],
   "source": [
    "Sibgrp=sub_df.groupby('SibSp')\n",
    "SibgrpAll= data.groupby('SibSp')\n",
    "#catSibSp = data.SibSp.value_counts()"
   ]
  },
  {
   "cell_type": "code",
   "execution_count": 374,
   "metadata": {},
   "outputs": [
    {
     "name": "stdout",
     "output_type": "stream",
     "text": [
      "survival percentage for ppl who has  0 siblings: 65.46052631578947 %\n",
      "survival percentage for ppl who has  1 siblings: 46.411483253588514 %\n",
      "survival percentage for ppl who has  2 siblings: 53.57142857142857 %\n",
      "survival percentage for ppl who has  3 siblings: 75.0 %\n",
      "survival percentage for ppl who has  4 siblings: 83.33333333333334 %\n",
      "survival percentage for ppl who has  5 siblings: 0%\n",
      "survival percentage for ppl who has  8 siblings: 0%\n"
     ]
    }
   ],
   "source": [
    "for cat in sorted(catSibSp.index):\n",
    "    if cat<5:\n",
    "        print(\"survival percentage for ppl who has \",cat, \"siblings:\",(len(SibgrpAll.get_group(cat))-len(Sibgrp.get_group(cat)))/len(SibgrpAll.get_group(cat))*100,\"%\")\n",
    "    else:\n",
    "        print(\"survival percentage for ppl who has \",cat, \"siblings: 0%\")"
   ]
  },
  {
   "cell_type": "code",
   "execution_count": 402,
   "metadata": {},
   "outputs": [
    {
     "data": {
      "image/png": "[encoded data removed]",
      "text/plain": [
       "<Figure size 1440x648 with 1 Axes>"
      ]
     },
     "metadata": {
      "needs_background": "light"
     },
     "output_type": "display_data"
    },
    {
     "data": {
      "text/plain": [
       "Text(0.5, 1.0, 'Sibling number distribution of survivors')"
      ]
     },
     "execution_count": 402,
     "metadata": {},
     "output_type": "execute_result"
    }
   ],
   "source": [
    "barp=[0]*len(catSibSp.index)\n",
    "indices = np.arange(len(barp))\n",
    "for i,cat in enumerate(sorted(catSibSp.index)):\n",
    "    if cat<5:\n",
    "        barp[i]=len(Sibgrp.get_group(cat))\n",
    "    else: barp[i]=0\n",
    "plt.figure(figsize=(20,9))\n",
    "plt.bar(indices, barp, width=.8, color='b', label='Percentage survival at sibling number')\n",
    "plt.xticks(indices, catSibsp.index)\n",
    "plt.xlabel('number of siblings')\n",
    "plt.ylabel('counts of survivors')\n",
    "plt.legend()\n",
    "plt.show()\n",
    "ax.set_title(\"Sibling number distribution of survivors\")"
   ]
  },
  {
   "cell_type": "markdown",
   "metadata": {},
   "source": [
    "### There seems to be higher survival rate if one has siblings more than 3\n",
    "#### Bar graph showing only number/frequency of survivors is not so much a good representation to show relationship between number of siblings and survival."
   ]
  },
  {
   "cell_type": "code",
   "execution_count": 384,
   "metadata": {},
   "outputs": [
    {
     "name": "stdout",
     "output_type": "stream",
     "text": [
      "0    1002\n",
      "1     170\n",
      "2     113\n",
      "3       8\n",
      "5       6\n",
      "4       6\n",
      "9       2\n",
      "6       2\n",
      "Name: Parch, dtype: int64\n",
      "Int64Index([0, 1, 2, 3, 5, 4, 9, 6], dtype='int64')\n"
     ]
    }
   ],
   "source": [
    "# Parch\n",
    "sub_df = datam['Parch']\n",
    "catParch=sub_df.value_counts()\n",
    "print(catParch)\n",
    "print(catParch.index)"
   ]
  },
  {
   "cell_type": "code",
   "execution_count": 387,
   "metadata": {},
   "outputs": [],
   "source": [
    "sub_df = data[[not x for x in sub_ind0]]\n",
    "Prcgrp=sub_df.groupby('Parch')\n",
    "PrcgrpAll= data.groupby('Parch')"
   ]
  },
  {
   "cell_type": "code",
   "execution_count": 392,
   "metadata": {},
   "outputs": [
    {
     "name": "stdout",
     "output_type": "stream",
     "text": [
      "survival percentage for ppl who has  0 relatives: 65.63421828908554 %\n",
      "survival percentage for ppl who has  1 relatives: 44.91525423728814 %\n",
      "survival percentage for ppl who has  2 relatives: 50.0 %\n",
      "survival percentage for ppl who has  3 relatives: 40.0 %\n"
     ]
    }
   ],
   "source": [
    "for cat in sorted(catParch.index):\n",
    "    if cat not in [4,5,6,9]:\n",
    "        print(\"survival percentage for ppl who has \",cat, \"relatives:\",(len(PrcgrpAll.get_group(cat))-len(Prcgrp.get_group(cat)))/len(PrcgrpAll.get_group(cat))*100,\"%\")\n",
    "    #else:\n",
    "        #print(\"survival percentage for ppl who has \",cat, \"siblings: 0%\")"
   ]
  },
  {
   "cell_type": "markdown",
   "metadata": {},
   "source": [
    "### There does not seem to be higher survival rate if one has more relative on board"
   ]
  },
  {
   "cell_type": "code",
   "execution_count": 404,
   "metadata": {},
   "outputs": [
    {
     "data": {
      "text/plain": [
       "count    1308.000000\n",
       "mean       33.295479\n",
       "std        51.758668\n",
       "min         0.000000\n",
       "25%         7.895800\n",
       "50%        14.454200\n",
       "75%        31.275000\n",
       "max       512.329200\n",
       "Name: Fare, dtype: float64"
      ]
     },
     "execution_count": 404,
     "metadata": {},
     "output_type": "execute_result"
    }
   ],
   "source": [
    "#Fare\n",
    "sub_df = datam['Fare']\n",
    "sub_df.describe()\n",
    "# make bins and divide fare into different ranges\n"
   ]
  },
  {
   "cell_type": "code",
   "execution_count": 532,
   "metadata": {},
   "outputs": [],
   "source": [
    "bins = np.linspace(0,512,17)\n",
    "# create counts\n",
    "counts=[0]*len(bins)\n",
    "for i,item in enumerate(bins):\n",
    "    for rows in data.iterrows():\n",
    "        if (rows[1].Fare > item) and (rows[1].Fare <= item+32):\n",
    "            counts[i]+=1"
   ]
  },
  {
   "cell_type": "code",
   "execution_count": 428,
   "metadata": {},
   "outputs": [
    {
     "data": {
      "text/plain": [
       "[665, 93, 65, 15, 16, 2, 5, 6, 6, 0, 0, 0, 0, 0, 0, 0, 3]"
      ]
     },
     "execution_count": 428,
     "metadata": {},
     "output_type": "execute_result"
    }
   ],
   "source": [
    "counts"
   ]
  },
  {
   "cell_type": "code",
   "execution_count": 436,
   "metadata": {},
   "outputs": [
    {
     "data": {
      "image/png": "[encoded data removed]",
      "text/plain": [
       "<Figure size 1440x504 with 1 Axes>"
      ]
     },
     "metadata": {
      "needs_background": "light"
     },
     "output_type": "display_data"
    },
    {
     "data": {
      "text/plain": [
       "Text(0.5, 1.0, 'Fare distribution')"
      ]
     },
     "execution_count": 436,
     "metadata": {},
     "output_type": "execute_result"
    }
   ],
   "source": [
    "indices= np.arange(len(counts))\n",
    "plt.figure(figsize=(20,7))\n",
    "plt.bar(indices, counts, width=.8, color='b', label='counts of Fare in range$')\n",
    "plt.xticks(indices, bins)\n",
    "plt.legend()\n",
    "plt.xlabel('Fare $')\n",
    "plt.ylabel('counts')\n",
    "plt.show()\n",
    "ax.set_title(\"Fare distribution\")"
   ]
  },
  {
   "cell_type": "markdown",
   "metadata": {},
   "source": [
    "### Survival rate and Fare price relationship"
   ]
  },
  {
   "cell_type": "code",
   "execution_count": 541,
   "metadata": {},
   "outputs": [],
   "source": [
    "counts_surv=[0]*len(bins)\n",
    "for i,item in enumerate(bins):\n",
    "    for rows in data.iterrows():\n",
    "        if (rows[1].Fare > item) and (rows[1].Fare <= item+32) and (rows[1].Survived ==1):\n",
    "            counts_surv[i]+=1\n",
    "surv_perc_fr = [0]*len(bins)\n",
    "for i in range(len(bins)):\n",
    "    if counts[i] is not 0:\n",
    "        surv_perc_fr[i]=counts_surv[i]/counts[i]*100\n",
    "    else:\n",
    "        surv_perc_fr[i]=0\n",
    "            "
   ]
  },
  {
   "cell_type": "code",
   "execution_count": 543,
   "metadata": {},
   "outputs": [
    {
     "data": {
      "image/png": "[encoded data removed]",
      "text/plain": [
       "<Figure size 1440x504 with 1 Axes>"
      ]
     },
     "metadata": {},
     "output_type": "display_data"
    },
    {
     "data": {
      "text/plain": [
       "Text(0.5, 1.0, 'Survival rate in Fare range')"
      ]
     },
     "execution_count": 543,
     "metadata": {},
     "output_type": "execute_result"
    }
   ],
   "source": [
    "indices= np.arange(len(counts))\n",
    "plt.figure(figsize=(20,7))\n",
    "plt.bar(indices,surv_perc_fr, width=.8, color='b', label='counts of Fare in range$')\n",
    "plt.xticks(indices, bins)\n",
    "plt.legend()\n",
    "plt.xlabel('Fare $')\n",
    "plt.ylabel('survival percentage')\n",
    "plt.show()\n",
    "ax.set_title(\"Survival rate in Fare range\")"
   ]
  },
  {
   "cell_type": "markdown",
   "metadata": {},
   "source": [
    "### check the relationship between Fare price and class"
   ]
  },
  {
   "cell_type": "code",
   "execution_count": 439,
   "metadata": {},
   "outputs": [
    {
     "data": {
      "image/png": "[encoded data removed]",
      "text/plain": [
       "<Figure size 360x360 with 6 Axes>"
      ]
     },
     "metadata": {},
     "output_type": "display_data"
    }
   ],
   "source": [
    "cols =['Fare','Pclass']\n",
    "sns.set_style(\"darkgrid\")\n",
    "g=sns.pairplot(datam[cols])\n",
    "for i, j in zip(*np.triu_indices_from(g.axes, 1)):\n",
    "    g.axes[i, j].set_visible(False)"
   ]
  },
  {
   "cell_type": "markdown",
   "metadata": {},
   "source": [
    "#### Fare price is directly related to cabin class.Only 1st class would cost more than 100$. For the 1 missing Fare record, we can fill in the average fare of the matching class."
   ]
  },
  {
   "cell_type": "code",
   "execution_count": 446,
   "metadata": {},
   "outputs": [],
   "source": [
    "# Cabin\n",
    "# Cabin column contains more Null values, needs to do trimming \n",
    "datac= datam[datam.Cabin.notnull()]"
   ]
  },
  {
   "cell_type": "code",
   "execution_count": 525,
   "metadata": {},
   "outputs": [
    {
     "name": "stdout",
     "output_type": "stream",
     "text": [
      "multiple cabins' records: ['C', '23', ' C', '25', ' C', '27']\n",
      "checking multiple records with Sibling/relative numbers  3 2\n",
      "multiple cabins' records: ['C', '23', ' C', '25', ' C', '27']\n",
      "checking multiple records with Sibling/relative numbers  3 2\n",
      "multiple cabins' records: ['D', '10', ' D', '12']\n",
      "checking multiple records with Sibling/relative numbers  0 1\n",
      "multiple cabins' records: ['B', '58', ' B', '60']\n",
      "checking multiple records with Sibling/relative numbers  0 1\n",
      "multiple cabins' records: ['C', '22', ' C', '26']\n",
      "checking multiple records with Sibling/relative numbers  1 2\n",
      "multiple cabins' records: ['B', '58', ' B', '60']\n",
      "checking multiple records with Sibling/relative numbers  0 1\n",
      "multiple cabins' records: ['C', '22', ' C', '26']\n",
      "checking multiple records with Sibling/relative numbers  1 2\n",
      "multiple cabins' records: ['B', '57', ' B', '59', ' B', '63', ' B', '66']\n",
      "checking multiple records with Sibling/relative numbers  2 2\n",
      "multiple cabins' records: ['C', '23', ' C', '25', ' C', '27']\n",
      "checking multiple records with Sibling/relative numbers  3 2\n",
      "multiple cabins' records: ['B', '96', ' B', '98']\n",
      "checking multiple records with Sibling/relative numbers  1 2\n",
      "multiple cabins' records: ['B', '96', ' B', '98']\n",
      "checking multiple records with Sibling/relative numbers  1 2\n",
      "multiple cabins' records: ['C', '23', ' C', '25', ' C', '27']\n",
      "checking multiple records with Sibling/relative numbers  1 4\n",
      "multiple cabins' records: ['C', '22', ' C', '26']\n",
      "checking multiple records with Sibling/relative numbers  1 2\n",
      "multiple cabins' records: ['B', '51', ' B', '53', ' B', '55']\n",
      "checking multiple records with Sibling/relative numbers  0 1\n",
      "multiple cabins' records: ['C', '62', ' C', '64']\n",
      "checking multiple records with Sibling/relative numbers  1 0\n",
      "multiple cabins' records: ['B', '57', ' B', '59', ' B', '63', ' B', '66']\n",
      "checking multiple records with Sibling/relative numbers  2 2\n",
      "multiple cabins' records: ['B', '96', ' B', '98']\n",
      "checking multiple records with Sibling/relative numbers  1 2\n",
      "multiple cabins' records: ['B', '82', ' B', '84']\n",
      "checking multiple records with Sibling/relative numbers  0 0\n",
      "multiple cabins' records: ['B', '96', ' B', '98']\n",
      "checking multiple records with Sibling/relative numbers  1 2\n",
      "multiple cabins' records: ['B', '51', ' B', '53', ' B', '55']\n",
      "checking multiple records with Sibling/relative numbers  0 0\n",
      "multiple cabins' records: ['B', '57', ' B', '59', ' B', '63', ' B', '66']\n",
      "checking multiple records with Sibling/relative numbers  1 3\n",
      "multiple cabins' records: ['C', '23', ' C', '25', ' C', '27']\n",
      "checking multiple records with Sibling/relative numbers  3 2\n",
      "multiple cabins' records: ['B', '57', ' B', '59', ' B', '63', ' B', '66']\n",
      "checking multiple records with Sibling/relative numbers  2 2\n",
      "multiple cabins' records: ['C', '23', ' C', '25', ' C', '27']\n",
      "checking multiple records with Sibling/relative numbers  1 4\n",
      "multiple cabins' records: ['C', '55', ' C', '57']\n",
      "checking multiple records with Sibling/relative numbers  1 0\n",
      "multiple cabins' records: ['C', '55', ' C', '57']\n",
      "checking multiple records with Sibling/relative numbers  1 0\n",
      "multiple cabins' records: ['B', '57', ' B', '59', ' B', '63', ' B', '66']\n",
      "checking multiple records with Sibling/relative numbers  1 3\n",
      "multiple cabins' records: ['B', '58', ' B', '60']\n",
      "checking multiple records with Sibling/relative numbers  1 1\n",
      "multiple cabins' records: ['C', '62', ' C', '64']\n",
      "checking multiple records with Sibling/relative numbers  1 0\n",
      "multiple cabins' records: ['C', '22', ' C', '26']\n",
      "checking multiple records with Sibling/relative numbers  1 2\n",
      "multiple cabins' records: ['B', '51', ' B', '53', ' B', '55']\n",
      "checking multiple records with Sibling/relative numbers  0 1\n",
      "multiple cabins' records: ['D', '10', ' D', '12']\n",
      "checking multiple records with Sibling/relative numbers  0 1\n",
      "multiple cabins' records: ['E', '39', ' E', '41']\n",
      "checking multiple records with Sibling/relative numbers  0 0\n",
      "multiple cabins' records: ['B', '52', ' B', '54', ' B', '56']\n",
      "checking multiple records with Sibling/relative numbers  0 0\n"
     ]
    }
   ],
   "source": [
    "import re\n",
    "from statistics import mode,mean\n",
    "newcabn=[]\n",
    "newcabc=[]\n",
    "for row in datac.iterrows():\n",
    "    splt=re.split('(\\d+)',row[1].Cabin)\n",
    "    # set aside characters and number\n",
    "    if '' in splt:splt.pop(-1)\n",
    "    if len(splt)>2:\n",
    "        print(\"multiple cabins' records:\",splt)\n",
    "        print(\"checking multiple records with Sibling/relative numbers \",row[1].SibSp,row[1].Parch)\n",
    "        tmp = [int(x) for x in splt[1:2]]\n",
    "        splt[1]=mean(tmp)\n",
    "    if len(splt)==1: splt+=[0]\n",
    "    \n",
    "    newcabn+=[splt[1]]\n",
    "    newcabc+=[splt[0]]"
   ]
  },
  {
   "cell_type": "code",
   "execution_count": 529,
   "metadata": {},
   "outputs": [
    {
     "name": "stdout",
     "output_type": "stream",
     "text": [
      "total cabin records: 295 . total unique cabin records: 186\n"
     ]
    }
   ],
   "source": [
    "print(\"total cabin records:\",len(datac),\". total unique cabin records:\",len(set(datac.Cabin.values)))"
   ]
  },
  {
   "cell_type": "markdown",
   "metadata": {},
   "source": [
    "### We can see that multiple cabins may be registered under several persons, who are likely within a family or board as friends. These cabin numbers may be close by."
   ]
  },
  {
   "cell_type": "code",
   "execution_count": 495,
   "metadata": {},
   "outputs": [
    {
     "name": "stderr",
     "output_type": "stream",
     "text": [
      "/miniconda3/lib/python3.7/site-packages/ipykernel_launcher.py:1: SettingWithCopyWarning: \n",
      "A value is trying to be set on a copy of a slice from a DataFrame.\n",
      "Try using .loc[row_indexer,col_indexer] = value instead\n",
      "\n",
      "See the caveats in the documentation: http://pandas.pydata.org/pandas-docs/stable/indexing.html#indexing-view-versus-copy\n",
      "  \"\"\"Entry point for launching an IPython kernel.\n",
      "/miniconda3/lib/python3.7/site-packages/ipykernel_launcher.py:2: SettingWithCopyWarning: \n",
      "A value is trying to be set on a copy of a slice from a DataFrame.\n",
      "Try using .loc[row_indexer,col_indexer] = value instead\n",
      "\n",
      "See the caveats in the documentation: http://pandas.pydata.org/pandas-docs/stable/indexing.html#indexing-view-versus-copy\n",
      "  \n"
     ]
    }
   ],
   "source": [
    "# add column of Cabin class\n",
    "datac['CabinCls']=newcabc\n",
    "datac['CabinNum']=newcabn"
   ]
  },
  {
   "cell_type": "code",
   "execution_count": 497,
   "metadata": {},
   "outputs": [],
   "source": [
    "# Visualize Cabin survival rate\n",
    "sub_df = datac[datac['Survived']==1]\n",
    "Cbgrp=sub_df.groupby('CabinCls')\n",
    "CbgrpAll= datac.groupby('CabinCls')"
   ]
  },
  {
   "cell_type": "code",
   "execution_count": 514,
   "metadata": {},
   "outputs": [
    {
     "name": "stdout",
     "output_type": "stream",
     "text": [
      "survival percentage for ppl who is in  A cabin class: 68.18181818181817 %\n",
      "survival percentage for ppl who is in  B cabin class: 46.15384615384615 %\n",
      "survival percentage for ppl who is in  C cabin class: 62.76595744680851 %\n",
      "survival percentage for ppl who is in  D cabin class: 45.65217391304348 %\n",
      "survival percentage for ppl who is in  E cabin class: 41.46341463414634 %\n",
      "survival percentage for ppl who is in  F cabin class: 50.0 %\n",
      "survival percentage for ppl who is in  F E cabin class: 66.66666666666666 %\n",
      "survival percentage for ppl who is in  F G cabin class: 0 %\n",
      "survival percentage for ppl who is in  G cabin class: 60.0 %\n",
      "survival percentage for ppl who is in  T cabin class: 0 %\n"
     ]
    }
   ],
   "source": [
    "catCbgrp = datac.CabinCls.value_counts()\n",
    "saveCb_perc=[0]*len(catCbgrp)\n",
    "for i,cat in enumerate(sorted(catCbgrp.index)):\n",
    "    if cat in ['F G','T']: \n",
    "        saveCb_perc[i]=0\n",
    "    else:    \n",
    "        saveCb_perc[i]=(len(CbgrpAll.get_group(cat))-len(Cbgrp.get_group(cat)))/len(CbgrpAll.get_group(cat))*100\n",
    "    print(\"survival percentage for ppl who is in \",cat, \"cabin class:\",saveCb_perc[i],\"%\")"
   ]
  },
  {
   "cell_type": "code",
   "execution_count": 518,
   "metadata": {},
   "outputs": [
    {
     "data": {
      "text/plain": [
       "Text(0, 0.5, '%')"
      ]
     },
     "execution_count": 518,
     "metadata": {},
     "output_type": "execute_result"
    },
    {
     "data": {
      "image/png": "[encoded data removed]",
      "text/plain": [
       "<Figure size 432x288 with 1 Axes>"
      ]
     },
     "metadata": {},
     "output_type": "display_data"
    }
   ],
   "source": [
    "fig1, ax1 = plt.subplots()\n",
    "ticks=[x for x in range(10)]\n",
    "ax1.bar(ticks,saveCb_perc)\n",
    "plt.xticks(ticks,['A','B','C','D','E','F','F E','F G','G','T'])\n",
    "ax1.set_title('Cabin Class survival percentage')\n",
    "plt.ylabel('%')"
   ]
  },
  {
   "cell_type": "code",
   "execution_count": 545,
   "metadata": {},
   "outputs": [
    {
     "name": "stdout",
     "output_type": "stream",
     "text": [
      "['S' 'C' 'Q']\n"
     ]
    },
    {
     "data": {
      "image/png": "[encoded data removed]",
      "text/plain": [
       "<Figure size 432x288 with 1 Axes>"
      ]
     },
     "metadata": {},
     "output_type": "display_data"
    }
   ],
   "source": [
    "# Embark harbor\n",
    "perc=datam['Embarked'].value_counts(sort=True)/len(data)*100\n",
    "label=datam['Embarked'].value_counts(sort=True).index.values\n",
    "#print(label)\n",
    "print(perc.index.values)\n",
    "fig1, ax1 = plt.subplots()\n",
    "ax1.pie(perc, labels=['Cherbourg', 'Queenstown', 'Southampton'], autopct='%1.1f%%',shadow=True, startangle=90)\n",
    "ax1.axis('equal')  # Equal aspect ratio ensures that pie is drawn as a circle.\n",
    "ax1.set_title('Embarked Harbors of All Passengers, Porportion percentage%')\n",
    "\n",
    "plt.show()\n"
   ]
  },
  {
   "cell_type": "markdown",
   "metadata": {},
   "source": [
    "### Survival rate based on 3 harbors"
   ]
  },
  {
   "cell_type": "code",
   "execution_count": 549,
   "metadata": {},
   "outputs": [
    {
     "name": "stdout",
     "output_type": "stream",
     "text": [
      "Index(['S', 'C', 'Q'], dtype='object')\n",
      "S-port survival precentage:  33.69565217391305 %\n",
      "C-port survival precentage:  55.35714285714286 %\n",
      "Q-port survival precentage:  38.961038961038966 %\n"
     ]
    },
    {
     "data": {
      "text/plain": [
       "Text(0, 0.5, '%')"
      ]
     },
     "execution_count": 549,
     "metadata": {},
     "output_type": "execute_result"
    },
    {
     "data": {
      "image/png": "[encoded data removed]",
      "text/plain": [
       "<Figure size 432x288 with 1 Axes>"
      ]
     },
     "metadata": {},
     "output_type": "display_data"
    }
   ],
   "source": [
    "sub_ind=target==1\n",
    "sub_df=data[sub_ind]\n",
    "totl = data['Embarked'].value_counts(sort=True)\n",
    "part= sub_df['Embarked'].value_counts(sort=True)\n",
    "print(part.index)\n",
    "#print(part[0])\n",
    "#print(totl.index.values,totl[0],totl[1])\n",
    "#print(part.index.values,part[0],part[1])\n",
    "perc=[None]*3\n",
    "i=0\n",
    "perc[0]=part[0]/totl[0]*100\n",
    "perc[1]=part[1]/totl[1]*100\n",
    "perc[2]=part[2]/totl[2]*100\n",
    "\n",
    "print(\"S-port survival precentage: \",perc[0],\"%\")\n",
    "print(\"C-port survival precentage: \",perc[1],\"%\")\n",
    "print(\"Q-port survival precentage: \",perc[2],\"%\")\n",
    "fig1, ax1 = plt.subplots()\n",
    "ax1.bar([1,2,3],perc)\n",
    "plt.xticks([1,2,3],['Cherbourg', 'Queenstown', 'Southampton'])\n",
    "ax1.set_title('Embarked Harbor survival percentage')\n",
    "plt.ylabel('%')"
   ]
  },
  {
   "cell_type": "markdown",
   "metadata": {},
   "source": [
    "### The Embarked Harbor is pretty indicative of whether passenger will survive. Q-port passengers are more likely to survive."
   ]
  }
 ],
 "metadata": {
  "kernelspec": {
   "display_name": "Python 3",
   "language": "python",
   "name": "python3"
  },
  "language_info": {
   "codemirror_mode": {
    "name": "ipython",
    "version": 3
   },
   "file_extension": ".py",
   "mimetype": "text/x-python",
   "name": "python",
   "nbconvert_exporter": "python",
   "pygments_lexer": "ipython3",
   "version": "3.7.3"
  }
 },
 "nbformat": 4,
 "nbformat_minor": 2
}
